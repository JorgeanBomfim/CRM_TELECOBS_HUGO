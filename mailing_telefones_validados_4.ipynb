{
 "cells": [
  {
   "cell_type": "code",
   "execution_count": null,
   "metadata": {},
   "outputs": [],
   "source": [
    "import pandas as pd\n",
    "# Ajuste das configurações de exibição\n",
    "pd.set_option('display.float_format', lambda x: '%.2f' % x)\n",
    "########################################## LENDO A BASE OPERACIONAL PRONTA PARA TRABALHAR\n",
    "caminho = r\"R:\\TI\\TELEFONIA\\BASES CLARO E NET ATIVA\\BASES SEMANA PADRAO\\BASE_OPERACIONAL\"\n",
    "base_operacional_hugo = pd.read_parquet(caminho+\"/BASE_OPERACIONAL_TELECOB_HUGO.parquet\")\n",
    "\n",
    "base_operacional_hugo['ATRASO'] = base_operacional_hugo['ATRASO'].astype('int16')\n",
    "base_operacional_hugo['SALDO_ABERTO'] = base_operacional_hugo['SALDO_ABERTO'].str.replace('.', '').str.replace(',', '.').astype(float)\n",
    "base_operacional_hugo['BASE'] = base_operacional_hugo['BASE'].apply(lambda x: x.replace('Claro MÃ³vel','Claro Móvel'))\n",
    "base_operacional_hugo = base_operacional_hugo.assign(FILA=\"\")\n",
    "\n",
    "## Separando telefones contratante e higi\n",
    "base_contratante = base_operacional_hugo.loc[:,['CPF', 'NOME_x', 'DEVEDOR', 'BASE', 'FILA', 'ATRASO', 'SALDO_ABERTO','TELEFONE']]\n",
    "base_higi = base_operacional_hugo.loc[:,['CPF', 'NOME_x', 'DEVEDOR', 'BASE', 'FILA', 'ATRASO', 'SALDO_ABERTO','TELEFONE_HIGIENIZADO']]\n",
    "\n",
    "#### tirando dos telefones higienizados os dados nulos\n",
    "base_higi = base_higi.query(\"TELEFONE_HIGIENIZADO.notnull()\")\n",
    "base_higi = base_higi.rename(columns={'TELEFONE_HIGIENIZADO':'TELEFONE'})\n",
    "\n",
    "## unificando a base em layout vertical\n",
    "base_unificada = pd.concat([base_contratante,base_higi]).drop_duplicates(['CPF','NOME_x','DEVEDOR','BASE','TELEFONE'])\n",
    "base_unificada['TELEFONE'] = base_unificada['TELEFONE'].str.strip()\n",
    "\n",
    "\n",
    "#### LISTA DOS STATUS DE TELEFONIA PARA DIVISÃO DO MAILING\n",
    "status_alo = ['vozhumana','ocupado','naoatende','cxpre','cxpos','timeout']\n",
    "nao_validado = ['nao_validado']\n",
    "status_telefonia = ['congestionamentopublica','foneinexistente','foneforadeservico','silencio','semrespostapublica','congestionamentointerno','congestionamentopf']"
   ]
  },
  {
   "cell_type": "code",
   "execution_count": null,
   "metadata": {},
   "outputs": [],
   "source": [
    "### CARREGANDO AS DISCAGENS DA ATN GERAL\n",
    "telefones_validados = pd.read_parquet(r\"R:\\TI\\TELEFONIA\\validados_2024/telefones_validados_full.parquet\")\n",
    "telefones_validados.rename(columns={'ResultadoClassificacao':'STATUS_TEL'},inplace=True)\n",
    "telefones_validados['dddtelefone'] = telefones_validados['dddtelefone'].astype('str')"
   ]
  },
  {
   "cell_type": "code",
   "execution_count": null,
   "metadata": {},
   "outputs": [],
   "source": [
    "##### CRUZANDO A BASE OPERACIONAL E TRAZENDO OS STATUS DE TELEFONIA \n",
    "base_unificada = pd.merge(base_unificada, telefones_validados, right_on=['dddtelefone'], left_on=['TELEFONE'], how=\"left\")\n",
    "base_unificada = base_unificada.drop(columns='dddtelefone')\n",
    "\n",
    "### marcando oq nao foi validado\n",
    "base_unificada['STATUS_TEL'] = base_unificada['STATUS_TEL'].fillna( 'nao_validado')"
   ]
  },
  {
   "cell_type": "markdown",
   "metadata": {},
   "source": [
    "## MAILINGS PF"
   ]
  },
  {
   "cell_type": "code",
   "execution_count": null,
   "metadata": {},
   "outputs": [],
   "source": [
    "### FILTRANDO A BASE DE PF\n",
    "base_unificada_pf = base_unificada[base_unificada['CPF'].str.len()==11]\n",
    "base_unificada_pf = base_unificada_pf.drop_duplicates(['CPF','DEVEDOR','BASE','TELEFONE'])"
   ]
  },
  {
   "cell_type": "code",
   "execution_count": null,
   "metadata": {},
   "outputs": [],
   "source": [
    "alo_net = base_unificada_pf.query(f\"STATUS_TEL in {status_alo} and BASE == 'GEVENUE NET'\")[['CPF', 'NOME_x', 'DEVEDOR', 'BASE', 'FILA', 'ATRASO', 'SALDO_ABERTO','TELEFONE']]\n",
    "\n",
    "nao_validado_net = base_unificada_pf.query(f\"STATUS_TEL in {nao_validado} and BASE == 'GEVENUE NET'\")[['CPF', 'NOME_x', 'DEVEDOR', 'BASE', 'FILA', 'ATRASO', 'SALDO_ABERTO','TELEFONE']]\n",
    "\n",
    "status_telefonia_net = base_unificada_pf.query(f\"STATUS_TEL in {status_telefonia} and BASE == 'GEVENUE NET'\")[['CPF', 'NOME_x', 'DEVEDOR', 'BASE', 'FILA', 'ATRASO', 'SALDO_ABERTO','TELEFONE']]\n",
    "\n",
    "\n",
    "alo_net.to_csv(r\"R:\\TI\\TELEFONIA\\BASES CLARO E NET ATIVA\\MAILINGS DA SEMANA\\CLARO E NET PF/alo_net.csv\",index=False,sep=';')\n",
    "nao_validado_net.to_csv(r\"R:\\TI\\TELEFONIA\\BASES CLARO E NET ATIVA\\MAILINGS DA SEMANA\\CLARO E NET PF/nao_validado_net.csv\",index=False,sep=';')\n",
    "status_telefonia_net.to_csv(r\"R:\\TI\\TELEFONIA\\BASES CLARO E NET ATIVA\\MAILINGS DA SEMANA\\CLARO E NET PF/status_telefonia_net.csv\",index=False,sep=';')"
   ]
  },
  {
   "cell_type": "code",
   "execution_count": null,
   "metadata": {},
   "outputs": [],
   "source": [
    "alo_movel = base_unificada_pf.query(f\"STATUS_TEL in {status_alo} and BASE == 'GEVENUE CLARO MOVEL'\")[['CPF', 'NOME_x', 'DEVEDOR', 'BASE', 'FILA', 'ATRASO', 'SALDO_ABERTO','TELEFONE']]\n",
    "\n",
    "nao_validado_movel = base_unificada_pf.query(f\"STATUS_TEL in {nao_validado} and BASE == 'GEVENUE CLARO MOVEL'\")[['CPF', 'NOME_x', 'DEVEDOR', 'BASE', 'FILA', 'ATRASO', 'SALDO_ABERTO','TELEFONE']]\n",
    "\n",
    "status_telefonia_movel = base_unificada_pf.query(f\"STATUS_TEL in {status_telefonia} and BASE == 'GEVENUE CLARO MOVEL'\")[['CPF', 'NOME_x', 'DEVEDOR', 'BASE', 'FILA', 'ATRASO', 'SALDO_ABERTO','TELEFONE']]\n",
    "\n",
    "alo_movel.to_csv(r\"R:\\TI\\TELEFONIA\\BASES CLARO E NET ATIVA\\MAILINGS DA SEMANA\\CLARO E NET PF/alo_movel.csv\",index=False,sep=';')\n",
    "nao_validado_movel.to_csv(r\"R:\\TI\\TELEFONIA\\BASES CLARO E NET ATIVA\\MAILINGS DA SEMANA\\CLARO E NET PF/nao_validado_movel.csv\",index=False,sep=';')\n",
    "status_telefonia_movel.to_csv(r\"R:\\TI\\TELEFONIA\\BASES CLARO E NET ATIVA\\MAILINGS DA SEMANA\\CLARO E NET PF/status_telefonia_movel.csv\",index=False,sep=';')"
   ]
  },
  {
   "cell_type": "code",
   "execution_count": null,
   "metadata": {},
   "outputs": [],
   "source": [
    "alo_fixo = base_unificada_pf.query(f\"STATUS_TEL in {status_alo} and BASE == 'GEVENUE CLARO FIXO'\")[['CPF', 'NOME_x', 'DEVEDOR', 'BASE', 'FILA', 'ATRASO', 'SALDO_ABERTO','TELEFONE']]\n",
    "nao_validado_fixo = base_unificada_pf.query(f\"STATUS_TEL in {nao_validado} and BASE == 'GEVENUE CLARO FIXO'\")[['CPF', 'NOME_x', 'DEVEDOR', 'BASE', 'FILA', 'ATRASO', 'SALDO_ABERTO','TELEFONE']]\n",
    "status_telefonia_fixo = base_unificada_pf.query(f\"STATUS_TEL in {status_telefonia} and BASE == 'GEVENUE CLARO FIXO'\")[['CPF', 'NOME_x', 'DEVEDOR', 'BASE', 'FILA', 'ATRASO', 'SALDO_ABERTO','TELEFONE']]\n",
    "\n",
    "alo_fixo.to_csv(r\"R:\\TI\\TELEFONIA\\BASES CLARO E NET ATIVA\\MAILINGS DA SEMANA\\CLARO E NET PF/alo_fixo.csv\",index=False,sep=';')\n",
    "nao_validado_fixo.to_csv(r\"R:\\TI\\TELEFONIA\\BASES CLARO E NET ATIVA\\MAILINGS DA SEMANA\\CLARO E NET PF/nao_validado_fixo.csv\",index=False,sep=';')\n",
    "status_telefonia_fixo.to_csv(r\"R:\\TI\\TELEFONIA\\BASES CLARO E NET ATIVA\\MAILINGS DA SEMANA\\CLARO E NET PF/status_telefonia_fixo.csv\",index=False,sep=';')"
   ]
  },
  {
   "cell_type": "code",
   "execution_count": null,
   "metadata": {},
   "outputs": [],
   "source": [
    "alo_tv = base_unificada_pf.query(f\"STATUS_TEL in {status_alo} and BASE == 'GEVENUE CLARO TV'\")[['CPF', 'NOME_x', 'DEVEDOR', 'BASE', 'FILA', 'ATRASO', 'SALDO_ABERTO','TELEFONE']]\n",
    "nao_validado_tv = base_unificada_pf.query(f\"STATUS_TEL in {nao_validado} and BASE == 'GEVENUE CLARO TV'\")[['CPF', 'NOME_x', 'DEVEDOR', 'BASE', 'FILA', 'ATRASO', 'SALDO_ABERTO','TELEFONE']]\n",
    "status_telefonia_tv = base_unificada_pf.query(f\"STATUS_TEL in {status_telefonia} and BASE == 'GEVENUE CLARO TV'\")[['CPF', 'NOME_x', 'DEVEDOR', 'BASE', 'FILA', 'ATRASO', 'SALDO_ABERTO','TELEFONE']]\n",
    "\n",
    "alo_tv.to_csv(r\"R:\\TI\\TELEFONIA\\BASES CLARO E NET ATIVA\\MAILINGS DA SEMANA\\CLARO E NET PF/alo_tv.csv\",index=False,sep=';')\n",
    "nao_validado_tv.to_csv(r\"R:\\TI\\TELEFONIA\\BASES CLARO E NET ATIVA\\MAILINGS DA SEMANA\\CLARO E NET PF/nao_validado_tv.csv\",index=False,sep=';')\n",
    "status_telefonia_tv.to_csv(r\"R:\\TI\\TELEFONIA\\BASES CLARO E NET ATIVA\\MAILINGS DA SEMANA\\CLARO E NET PF/status_telefonia_tv.csv\",index=False,sep=';')"
   ]
  },
  {
   "cell_type": "markdown",
   "metadata": {},
   "source": [
    "## MAILINGS PJ"
   ]
  },
  {
   "cell_type": "code",
   "execution_count": null,
   "metadata": {},
   "outputs": [],
   "source": [
    "### FILTRANDO A BASE DE PJ\n",
    "base_unificada_pj = base_unificada[base_unificada['CPF'].str.len()==14]\n",
    "base_unificada_pj = base_unificada_pj.drop_duplicates(['CPF','DEVEDOR','BASE','TELEFONE'])"
   ]
  },
  {
   "cell_type": "code",
   "execution_count": null,
   "metadata": {},
   "outputs": [],
   "source": [
    "alo_net_pj = base_unificada_pj.query(f\"STATUS_TEL in {status_alo} and BASE == 'GEVENUE NET'\")[['CPF', 'NOME_x', 'DEVEDOR', 'BASE', 'FILA', 'ATRASO', 'SALDO_ABERTO','TELEFONE']]\n",
    "\n",
    "nao_validado_net_pj = base_unificada_pj.query(f\"STATUS_TEL in {nao_validado} and BASE == 'GEVENUE NET'\")[['CPF', 'NOME_x', 'DEVEDOR', 'BASE', 'FILA', 'ATRASO', 'SALDO_ABERTO','TELEFONE']]\n",
    "\n",
    "status_telefonia_net_pj = base_unificada_pj.query(f\"STATUS_TEL in {status_telefonia} and BASE == 'GEVENUE NET'\")[['CPF', 'NOME_x', 'DEVEDOR', 'BASE', 'FILA', 'ATRASO', 'SALDO_ABERTO','TELEFONE']]\n",
    "\n",
    "\n",
    "alo_net_pj.to_csv(r\"R:\\TI\\TELEFONIA\\BASES CLARO E NET ATIVA\\MAILINGS DA SEMANA\\CLARO E NET PJ/alo_net_pj.csv\",index=False,sep=';')\n",
    "nao_validado_net_pj.to_csv(r\"R:\\TI\\TELEFONIA\\BASES CLARO E NET ATIVA\\MAILINGS DA SEMANA\\CLARO E NET PJ/nao_validado_net_pj.csv\",index=False,sep=';')\n",
    "status_telefonia_net_pj.to_csv(r\"R:\\TI\\TELEFONIA\\BASES CLARO E NET ATIVA\\MAILINGS DA SEMANA\\CLARO E NET PJ/status_telefonia_net_pj.csv\",index=False,sep=';')"
   ]
  },
  {
   "cell_type": "code",
   "execution_count": null,
   "metadata": {},
   "outputs": [],
   "source": [
    "alo_movel_pj = base_unificada_pj.query(f\"STATUS_TEL in {status_alo} and BASE == 'GEVENUE CLARO MOVEL'\")[['CPF', 'NOME_x', 'DEVEDOR', 'BASE', 'FILA', 'ATRASO', 'SALDO_ABERTO','TELEFONE']]\n",
    "\n",
    "nao_validado_movel_pj = base_unificada_pj.query(f\"STATUS_TEL in {nao_validado} and BASE == 'GEVENUE CLARO MOVEL'\")[['CPF', 'NOME_x', 'DEVEDOR', 'BASE', 'FILA', 'ATRASO', 'SALDO_ABERTO','TELEFONE']]\n",
    "\n",
    "status_telefonia_movel_pj = base_unificada_pj.query(f\"STATUS_TEL in {status_telefonia} and BASE == 'GEVENUE CLARO MOVEL'\")[['CPF', 'NOME_x', 'DEVEDOR', 'BASE', 'FILA', 'ATRASO', 'SALDO_ABERTO','TELEFONE']]\n",
    "\n",
    "alo_movel_pj.to_csv(r\"R:\\TI\\TELEFONIA\\BASES CLARO E NET ATIVA\\MAILINGS DA SEMANA\\CLARO E NET PJ/alo_movel_pj.csv\",index=False,sep=';')\n",
    "nao_validado_movel_pj.to_csv(r\"R:\\TI\\TELEFONIA\\BASES CLARO E NET ATIVA\\MAILINGS DA SEMANA\\CLARO E NET PJ/nao_validado_movel_pj.csv\",index=False,sep=';')\n",
    "status_telefonia_movel_pj.to_csv(r\"R:\\TI\\TELEFONIA\\BASES CLARO E NET ATIVA\\MAILINGS DA SEMANA\\CLARO E NET PJ/status_telefonia_movel_pj.csv\",index=False,sep=';')"
   ]
  },
  {
   "cell_type": "code",
   "execution_count": null,
   "metadata": {},
   "outputs": [],
   "source": [
    "alo_fixo_pj = base_unificada_pj.query(f\"STATUS_TEL in {status_alo} and BASE == 'GEVENUE CLARO FIXO'\")[['CPF', 'NOME_x', 'DEVEDOR', 'BASE', 'FILA', 'ATRASO', 'SALDO_ABERTO','TELEFONE']]\n",
    "nao_validado_fixo_pj = base_unificada_pj.query(f\"STATUS_TEL in {nao_validado} and BASE == 'GEVENUE CLARO FIXO'\")[['CPF', 'NOME_x', 'DEVEDOR', 'BASE', 'FILA', 'ATRASO', 'SALDO_ABERTO','TELEFONE']]\n",
    "status_telefonia_fixo_pj = base_unificada_pj.query(f\"STATUS_TEL in {status_telefonia} and BASE == 'GEVENUE CLARO FIXO'\")[['CPF', 'NOME_x', 'DEVEDOR', 'BASE', 'FILA', 'ATRASO', 'SALDO_ABERTO','TELEFONE']]\n",
    "\n",
    "alo_fixo_pj.to_csv(r\"R:\\TI\\TELEFONIA\\BASES CLARO E NET ATIVA\\MAILINGS DA SEMANA\\CLARO E NET PJ/alo_fixo_pj.csv\",index=False,sep=';')\n",
    "nao_validado_fixo_pj.to_csv(r\"R:\\TI\\TELEFONIA\\BASES CLARO E NET ATIVA\\MAILINGS DA SEMANA\\CLARO E NET PJ/nao_validado_fixo_pj.csv\",index=False,sep=';')\n",
    "status_telefonia_fixo_pj.to_csv(r\"R:\\TI\\TELEFONIA\\BASES CLARO E NET ATIVA\\MAILINGS DA SEMANA\\CLARO E NET PJ/status_telefonia_fixo_pj.csv\",index=False,sep=';')"
   ]
  },
  {
   "cell_type": "code",
   "execution_count": null,
   "metadata": {},
   "outputs": [],
   "source": [
    "alo_tv_pj = base_unificada_pj.query(f\"STATUS_TEL in {status_alo} and BASE == 'GEVENUE CLARO TV'\")[['CPF', 'NOME_x', 'DEVEDOR', 'BASE', 'FILA', 'ATRASO', 'SALDO_ABERTO','TELEFONE']]\n",
    "nao_validado_tv_pj = base_unificada_pj.query(f\"STATUS_TEL in {nao_validado} and BASE == 'GEVENUE CLARO TV'\")[['CPF', 'NOME_x', 'DEVEDOR', 'BASE', 'FILA', 'ATRASO', 'SALDO_ABERTO','TELEFONE']]\n",
    "status_telefonia_tv_pj = base_unificada_pj.query(f\"STATUS_TEL in {status_telefonia} and BASE == 'GEVENUE CLARO TV'\")[['CPF', 'NOME_x', 'DEVEDOR', 'BASE', 'FILA', 'ATRASO', 'SALDO_ABERTO','TELEFONE']]\n",
    "\n",
    "alo_tv_pj.to_csv(r\"R:\\TI\\TELEFONIA\\BASES CLARO E NET ATIVA\\MAILINGS DA SEMANA\\CLARO E NET PJ/alo_tv_pj.csv\",index=False,sep=';')\n",
    "nao_validado_tv_pj.to_csv(r\"R:\\TI\\TELEFONIA\\BASES CLARO E NET ATIVA\\MAILINGS DA SEMANA\\CLARO E NET PJ/nao_validado_tv_pj.csv\",index=False,sep=';')\n",
    "status_telefonia_tv_pj.to_csv(r\"R:\\TI\\TELEFONIA\\BASES CLARO E NET ATIVA\\MAILINGS DA SEMANA\\CLARO E NET PJ/status_telefonia_tv_pj.csv\",index=False,sep=';')"
   ]
  },
  {
   "cell_type": "markdown",
   "metadata": {},
   "source": [
    "#### EMAILS TELECOB"
   ]
  },
  {
   "cell_type": "code",
   "execution_count": null,
   "metadata": {},
   "outputs": [],
   "source": [
    "### lendo base de cobrança GEVENUE e carregando pelo INDEX somente CPF E EMAILS\n",
    "import os\n",
    "import pandas as pd\n",
    "import glob\n",
    "\n",
    "# Configuração para exibir todas as colunas no DataFrame\n",
    "pd.set_option(\"display.max_columns\", None)\n",
    "\n",
    "# Definindo os nomes das colunas\n",
    "header_novo_gevenue = [\n",
    "    \"CÓDIGO DA CONTA\", \"SENHA\", \"PRODUTO\", \"NOME\", \"TIPO DE PESSOA\", \"CPF/CNPJ\",\n",
    "    \"DATA_NASCIMENTO\", \"FILA_COBRANCA\", \"ULT_DATA_SMS\", \"ULT_DATA_CARTA\",\n",
    "    \"ULT_DATA_URA\", \"ULT_DATA_EMAIL\", \"CARTEIRA (REGIÃO)\", \"VENCIMENTO\",\n",
    "    \"Valor Claro Móvel\", \"Valor Claro Residencial\", \"Valor Claro Empresarial\",\n",
    "    \"Valor Claro Fixo\", \"Valor Claro TV\", \"Valor TvExpurgo\", \"Valor Oi\",\n",
    "    \"DATA_NEGATIVACAO\", \"DATA_CADASTRO\", \"STATUS_CONTRATO_NET\", \"EMAIL_01\",\n",
    "    \"EMAIL_02\", \"EMAIL_03\", \"TIPO_DE_ENDERECO_1\", \"ORIGEM_ENDERECO_1\",\n",
    "    \"CIDADE_END_INS\", \"ESTADO_END_INS\", \"CEP_END_INS\", \"TIPO_DE_ENDERECO_2\",\n",
    "    \"ORIGEM_ENDERECO_2\", \"CIDADE_END_FAT\", \"UF_END_FAT\", \"CEP_END_FAT\",\n",
    "    \"DDD_FIXO_1\", \"TEL_FIXO_1\", \"DDD_FIXO_2\", \"TEL_FIXO_2\", \"DDD_FIXO_3\",\n",
    "    \"TEL_FIXO_3\", \"DDD_FIXO_4\", \"TEL_FIXO_4\", \"DDD_CEL_1\", \"TEL_CEL_1\",\n",
    "    \"DDD_CEL_2\", \"TEL_CEL_2\", \"DDD_CEL_3\", \"TEL_CEL_3\", \"DDD_CEL_4\", \"TEL_CEL_4\"\n",
    "]\n",
    "\n",
    "# Definindo o caminho para a pasta onde estão os arquivos .txt\n",
    "caminho = r\"R:\\TI\\TELEFONIA\\BASES CLARO E NET ATIVA\\BASE DE COBRANÇA\\Base de Cobrança GEV\"\n",
    "arquivos = glob.glob(os.path.join(caminho, \"*.txt\"))\n",
    "\n",
    "# Lista de larguras do layout NET COB\n",
    "lista_de_larguras = [\n",
    "    15, 12, 15, 40, 8, 15, 10, 50, 16, 16, 16, 16, 30, 10, 12, 12, 12, 12, 12, 12,\n",
    "    12, 10, 10, 50, 50, 50, 50, 10, 300, 40, 2, 9, 10, 300, 40, 2, 9, 2, 10, 2,\n",
    "    10, 2, 10, 2, 10, 2, 10, 2, 10, 2, 10, 2, 10, 2, 10, 2, 10\n",
    "]\n",
    "\n",
    "# Definindo os índices das colunas de interesse\n",
    "colunas_de_interesse_indices = [5,  24, 25, 26]\n",
    "\n",
    "# Selecionando as larguras e os nomes das colunas de interesse\n",
    "larguras_interesse = [lista_de_larguras[i] for i in colunas_de_interesse_indices]\n",
    "colunas_interesse = [header_novo_gevenue[i] for i in colunas_de_interesse_indices]\n",
    "\n",
    "# Calculando as larguras cumulativas para pular colunas desnecessárias\n",
    "sum_larguras = 0\n",
    "colunas_interesse_larguras = []\n",
    "for i in range(len(lista_de_larguras)):\n",
    "    if i in colunas_de_interesse_indices:\n",
    "        colunas_interesse_larguras.append((sum_larguras, lista_de_larguras[i]))\n",
    "    sum_larguras += lista_de_larguras[i]\n",
    "\n",
    "# Função personalizada para ler apenas as colunas de interesse\n",
    "def ler_colunas_interesse(linha):\n",
    "    valores = []\n",
    "    for inicio, largura in colunas_interesse_larguras:\n",
    "        valores.append(linha[inicio:inicio+largura].strip())\n",
    "    return valores\n",
    "\n",
    "# Lista para armazenar os DataFrames de cada arquivo\n",
    "dfList = []\n",
    "\n",
    "# Iterar sobre os arquivos na pasta\n",
    "for arquivo in arquivos:\n",
    "    print(f\"Lendo arquivo: {arquivo}\")\n",
    "    \n",
    "    # Lendo o arquivo e selecionando as colunas de interesse\n",
    "    with open(arquivo, 'r', encoding='utf-8') as file:\n",
    "        dados = [ler_colunas_interesse(linha) for linha in file]\n",
    "\n",
    "    # Convertendo os dados para um DataFrame do pandas\n",
    "    df = pd.DataFrame(dados, columns=colunas_interesse)\n",
    "    dfList.append(df)\n",
    "\n",
    "# Concatenar todos os DataFrames em um único DataFrame\n",
    "df_completo = pd.concat(dfList, ignore_index=True)\n",
    "\n",
    "email_cob_1 = df_completo[['CPF/CNPJ','EMAIL_01']]\n",
    "email_cob_2 = df_completo[['CPF/CNPJ','EMAIL_02']]\n",
    "email_cob_3 = df_completo[['CPF/CNPJ','EMAIL_03']]\n",
    "email_cob_1 = email_cob_1.rename(columns={'CPF/CNPJ':'CPF','EMAIL_01':'EMAIL_BASE_COB'})\n",
    "email_cob_2 = email_cob_2.rename(columns={'CPF/CNPJ':'CPF','EMAIL_02':'EMAIL_BASE_COB'})\n",
    "email_cob_3 = email_cob_3.rename(columns={'CPF/CNPJ':'CPF','EMAIL_03':'EMAIL_BASE_COB'})\n",
    "\n",
    "### concatenando os emails 1,2,3\n",
    "emails_base_cobranca = pd.concat([email_cob_1,email_cob_2,email_cob_3])\n",
    "## Removendo os emails em branco e tirando duplicatas\n",
    "emails_base_cobranca = emails_base_cobranca.query(\"EMAIL_BASE_COB != ''\").drop_duplicates(['CPF','EMAIL_BASE_COB'])\n",
    "\n",
    "### limpando os dfs pra nao pesar na memoria\n",
    "email_cob_1= ''\n",
    "df_completo= ''\n",
    "email_cob_2= ''\n",
    "email_cob_3= ''"
   ]
  },
  {
   "cell_type": "code",
   "execution_count": null,
   "metadata": {},
   "outputs": [],
   "source": [
    "########################################## LENDO A BASE OPERACIONAL PRONTA PARA TRABALHAR\n",
    "caminho = r\"R:\\TI\\TELEFONIA\\BASES CLARO E NET ATIVA\\BASES SEMANA PADRAO\\BASE_OPERACIONAL\"\n",
    "base_operacional_hugo = pd.read_parquet(caminho+\"/BASE_OPERACIONAL_TELECOB_HUGO.parquet\")\n",
    "\n",
    "base_operacional_hugo['ATRASO'] = base_operacional_hugo['ATRASO'].astype('int16')\n",
    "base_operacional_hugo['SALDO_ABERTO'] = base_operacional_hugo['SALDO_ABERTO'].str.replace('.', '').str.replace(',', '.').astype(float)\n",
    "base_operacional_hugo['BASE'] = base_operacional_hugo['BASE'].apply(lambda x: x.replace('Claro MÃ³vel','Claro Móvel'))\n",
    "\n",
    "###### BAIXANDO OS EMAILS DA GEVENUE HIGIENIZADOS (DAIANA PEDE PRA AÇÃO MASSIVA)\n",
    "bases_gevenue_list = ['GEVENUE NET','GEVENUE CLARO MOVEL','GEVENUE CLARO FIXO','GEVENUE CLARO TV']\n",
    "\n",
    "## SEPARANDO OS EMAILS HIGIENIZADOS \n",
    "emails_gevenue_higienizados = base_operacional_hugo.query(f\"BASE in {bases_gevenue_list} and  EMAIL_HIGIENIZADO.notnull()\").loc[:,['CPF','NOME_x','EMAIL_HIGIENIZADO','ATRASO','BASE','CONTRATO']]\\\n",
    ".drop_duplicates(['CPF','NOME_x','EMAIL_HIGIENIZADO'])\n",
    "\n",
    "##### SEPARANDO OS EMAILS DO CONTRATANTE\n",
    "emails_gevenue_contratante = base_operacional_hugo.query(f\"BASE in {bases_gevenue_list} and  EMAIL.notnull()\").loc[:,['CPF','NOME_x','EMAIL','ATRASO','BASE','CONTRATO']]\\\n",
    ".drop_duplicates(['CPF','NOME_x','EMAIL'])\n",
    "\n",
    "\n",
    "###RENOMEANDO PARA CONCATENAR OS DOIS HIGIENIZADOS E CONTRATANTE\n",
    "emails_gevenue_higienizados.rename(columns={'EMAIL_HIGIENIZADO': 'EMAIL'}, inplace=True)\n",
    "\n",
    "# CONCATENANDO, REMOVENDO DUPLICADO E RESETANDO O INDEX\n",
    "emails_gevenue_devolver = pd.concat([emails_gevenue_higienizados,emails_gevenue_contratante])\n",
    "emails_gevenue_devolver = emails_gevenue_devolver.drop_duplicates(['CPF','NOME_x','EMAIL','CONTRATO']).reset_index(drop=True)\n",
    "\n",
    "#########\n",
    "## Trazendo os emails da base de cobrança para a base da semana\n",
    "emails_gevenue_devolver = pd.merge(emails_gevenue_devolver, emails_base_cobranca, right_on=['CPF'], left_on=['CPF'], how=\"left\")\n",
    "\n",
    "emails_base_mailing = emails_gevenue_devolver[['CPF', 'NOME_x', 'EMAIL', 'ATRASO', 'BASE', 'CONTRATO']]\n",
    "emails_base_cob = emails_gevenue_devolver[['CPF', 'NOME_x', 'EMAIL_BASE_COB', 'ATRASO', 'BASE', 'CONTRATO']]\n",
    "emails_base_cob = emails_base_cob.rename(columns={'EMAIL_BASE_COB':'EMAIL'})\n",
    "\n",
    "emails_gevenue_devolver = pd.concat([emails_base_mailing, emails_base_cob])\n",
    "## Removendo duplicata e os dados nulos\n",
    "emails_gevenue_devolver = emails_gevenue_devolver.drop_duplicates(['CPF','EMAIL','BASE','CONTRATO']).query(\"EMAIL.notnull()\")\n"
   ]
  },
  {
   "cell_type": "code",
   "execution_count": null,
   "metadata": {},
   "outputs": [],
   "source": [
    "###### FILTRANDO O QUE É = CPF (11 DIGITOS) PORQUE A QUANTIDDE ULTRAPASSA 1 MILHÃO DE LINHAS\n",
    "### ORDENANDO POR ATRASO DO MENOR PARA O MAIOR E CPF , FILTRANDO SOMENTE AS LINHAS DE EMAIL QUE NÃO ESTÃO VAZIAS.\n",
    "## DIVIDINDO EM 2 ARQUIVOS PARA ABRIREM EM EXCEL\n",
    "emails_gevenue_devolver_cpf = emails_gevenue_devolver[emails_gevenue_devolver['CPF'].str.len()==11].reset_index(drop=True)\n",
    "emails_gevenue_devolver_cpf = emails_gevenue_devolver_cpf.sort_values(['ATRASO','CPF']).query(\"EMAIL !=' '\")\n",
    "emails_gevenue_cpf_1 = emails_gevenue_devolver_cpf.iloc[0:999999]\n",
    "emails_gevenue_cpf_2 = emails_gevenue_devolver_cpf.iloc[1000000:2000000]\n",
    "emails_gevenue_cpf_3 = emails_gevenue_devolver_cpf.iloc[2000001:3000000]\n",
    "\n",
    "###### FILTRANDO O QUE É = CNPJ (14 DIGITOS).\n",
    "#### ORDENANDO POR ATRASO DO MENOR PARA O MAIOR E CPF , FILTRANDO SOMENTE AS LINHAS DE EMAIL QUE NÃO ESTÃO VAZIAS.\n",
    "emails_gevenue_devolver_cnpj = emails_gevenue_devolver[emails_gevenue_devolver['CPF'].str.len()==14].reset_index(drop=True)\n",
    "emails_gevenue_devolver_cnpj = emails_gevenue_devolver_cnpj.sort_values(['ATRASO','CPF']).query(\"EMAIL !=' '\")\n",
    "\n",
    "\n",
    "\n",
    "##### BAIXANDO O ARQUIVO COM 3 ABAS, DUAS CONTENDO EMAILS DE CLIENTES PESSOA FISICA E UMA COM PESSOA JURIDICA.\n",
    "writer = pd.ExcelWriter(r'R:\\TI\\TELEFONIA\\BASES CLARO E NET ATIVA\\MAILINGS DA SEMANA\\EMAILS PF E PJ/Emails_PF_PJ_TELES.xlsx', engine='xlsxwriter')\n",
    "\n",
    "#Salvando o Relatorio na pasta.\n",
    "emails_gevenue_cpf_1.to_excel(writer, sheet_name='Emails_PF_1', index=False)\n",
    "emails_gevenue_cpf_2.to_excel(writer, sheet_name='Emails_PF_2', index=False)\n",
    "emails_gevenue_cpf_3.to_excel(writer, sheet_name='Emails_PF_3', index=False)\n",
    "emails_gevenue_devolver_cnpj.to_excel(writer, sheet_name='Emails_PJ', index=False)\n",
    "writer.save()\n"
   ]
  }
 ],
 "metadata": {
  "kernelspec": {
   "display_name": "Python 3",
   "language": "python",
   "name": "python3"
  },
  "language_info": {
   "codemirror_mode": {
    "name": "ipython",
    "version": 3
   },
   "file_extension": ".py",
   "mimetype": "text/x-python",
   "name": "python",
   "nbconvert_exporter": "python",
   "pygments_lexer": "ipython3",
   "version": "3.10.8"
  }
 },
 "nbformat": 4,
 "nbformat_minor": 2
}
