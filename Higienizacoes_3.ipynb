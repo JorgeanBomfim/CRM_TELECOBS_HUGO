{
 "cells": [
  {
   "cell_type": "code",
   "execution_count": null,
   "metadata": {},
   "outputs": [],
   "source": [
    "################################## LENDO A BASE OPERACIONAL DA SEMANA PARA HIGIENIZAR\n",
    "import pandas as pd\n",
    "import numpy as np\n",
    "import pysftp\n",
    "import io\n",
    "import math\n",
    "\n",
    "# CARREGANDO APENAS AS COLUNAS NECESSARIAS BGPRA HIGIENIZAR (CPF,NOME,TEL,EMAIL)\n",
    "colunas_necessarias_para_higienizar = ['CPF','NOME_x','TELEFONE','EMAIL','TELEFONE_HIGIENIZADO','EMAIL_HIGIENIZADO','BASE','ATRASO']\n",
    "\n",
    "telecob_hugo_vigente = pd.read_csv(r\"R:\\TI\\TELEFONIA\\BASES CLARO E NET ATIVA\\BASES SEMANA PADRAO/BASE_OPERACIONAL_TELECOB_HUGO.txt\",sep=';', usecols= colunas_necessarias_para_higienizar,dtype=str)\n",
    "\n",
    "\n",
    "### colocando a base vertical e concatenando\n",
    "df_1_contratante = telecob_hugo_vigente.loc[:,['CPF','NOME_x','TELEFONE','EMAIL','ATRASO','BASE']]\n",
    "df_2_higienizados = telecob_hugo_vigente.loc[:,['CPF','NOME_x','TELEFONE_HIGIENIZADO','EMAIL_HIGIENIZADO','ATRASO','BASE']]\n",
    "df_2_higienizados = df_2_higienizados.rename(columns={'TELEFONE_HIGIENIZADO':'TELEFONE'})\n",
    "df_2_higienizados = df_2_higienizados.rename(columns={'EMAIL_HIGIENIZADO':'EMAIL'})\n",
    "\n",
    "telecob_hugo_vigente = pd.concat([df_1_contratante,df_2_higienizados])\n",
    "telecob_hugo_vigente = telecob_hugo_vigente.drop_duplicates(['CPF', 'NOME_x','TELEFONE', 'EMAIL'])\n",
    "telecob_hugo_vigente['ATRASO'] = telecob_hugo_vigente['ATRASO'].astype('int32')\n",
    "\n",
    "########### ORGANIZANDO OS CPF'S E RESETANDO O INDEX PRA BAIXAR OS ARQUIVOS\n",
    "telecob_hugo_vigente = telecob_hugo_vigente.sort_values(['ATRASO','CPF'])\n",
    "telecob_hugo_vigente = telecob_hugo_vigente.reset_index(drop=True)"
   ]
  },
  {
   "cell_type": "code",
   "execution_count": null,
   "metadata": {},
   "outputs": [],
   "source": [
    "#### AVALIAÇÃO PARA SABER OQ VAI HIGIENIZAR\n",
    "telecob_hugo_vigente.query('BASE == \"Claro Fixo\"').drop_duplicates(['CPF'])\n"
   ]
  },
  {
   "cell_type": "code",
   "execution_count": null,
   "metadata": {},
   "outputs": [],
   "source": [
    "###### FILTRANDO CARTEIRAS PELAS SEGMENTAÇÕES DE ATRASO QUE VAMOS HIGIENIZAR \n",
    "### CARTEIRAS CLARO \n",
    "higi_movel = telecob_hugo_vigente.query('BASE == \"Claro Móvel\"  and ATRASO >= 0  and ATRASO <= 1850  ')\n",
    "higi_tv = telecob_hugo_vigente.query('BASE == \"Claro TV\"  and ATRASO >= 0  and ATRASO <= 3500 ')\n",
    "higi_fixo = telecob_hugo_vigente.query('BASE == \"Claro Fixo\"')\n",
    "\n",
    "\n",
    "#### CARTEIRAS NET E GEVENUE\n",
    "higi_gevenue = telecob_hugo_vigente.query('BASE == \"GEVENUE\" and ATRASO >= 0   and ATRASO <= 4000')\n",
    "# higi_net = telecob_hugo_vigente.query('BASE == \"NET\" and ATRASO <= 99999 ')"
   ]
  },
  {
   "cell_type": "code",
   "execution_count": null,
   "metadata": {},
   "outputs": [],
   "source": [
    "# telecob_hugo_vigente = pd.concat([higi_movel,higi_tv,higi_fixo,higi_gevenue,higi_net],ignore_index=True).drop_duplicates(['CPF','NOME_x','TELEFONE','EMAIL'])\n",
    "telecob_hugo_vigente = pd.concat([higi_movel,higi_tv,higi_fixo,higi_gevenue],ignore_index=True).drop_duplicates(['CPF','NOME_x','TELEFONE','EMAIL'])\n",
    "\n",
    "### SEPARANDO UM DATAFRAME PARA GERAR UM QUADRO DO QUE JÁ HIGIENIZAMOS\n",
    "base_enviada_para_higienizar = telecob_hugo_vigente\n",
    "### PREPARANDO O LAYOUT FINAL PARA ENVIAR VIA SFTP\n",
    "telecob_hugo_vigente = telecob_hugo_vigente.loc[:,['CPF','NOME_x','TELEFONE','EMAIL']]\n",
    "telecob_hugo_vigente"
   ]
  },
  {
   "cell_type": "code",
   "execution_count": null,
   "metadata": {},
   "outputs": [],
   "source": [
    "# estabelecer conexão SFTP\n",
    "cnopts = pysftp.CnOpts()\n",
    "cnopts.hostkeys = None   # ignore host key verification\n",
    "sftp = pysftp.Connection(host='sftp-afinder.koiketec.com', username='user1009', password='8GEeNgVW5DgbmYyp',port=17592, cnopts=cnopts)\n",
    "\n",
    "\n",
    "# Definir o tamanho desejado para cada lote\n",
    "\n",
    "tamanho_lote = math.ceil(len(telecob_hugo_vigente) / 3)\n",
    "\n",
    "# Calcular o número de lotes necessário\n",
    "num_lotes = int(np.ceil(len(telecob_hugo_vigente) / tamanho_lote))\n",
    "\n",
    "# Dividir o DataFrame em lotes\n",
    "lotes = np.array_split(telecob_hugo_vigente, num_lotes)\n",
    "\n",
    "# Verificar o tamanho de cada lote e ajustar se necessário\n",
    "for i, lote in enumerate(lotes):\n",
    "    if len(lote) > tamanho_lote:\n",
    "        # Dividir o lote em sublotes menores\n",
    "        sublotes = np.array_split(lote, len(lote) // tamanho_lote + 1)\n",
    "        # Substituir o lote original pelos sublotes\n",
    "        lotes[i:i+1] = sublotes\n",
    "\n",
    "# Enviar os lotes via SFTP\n",
    "for i, lote in enumerate(lotes):\n",
    "    filename = f'CLAR_NET_GEV_lote_{i}_COBRANCA.csv'\n",
    "    with io.StringIO() as sftp_file:\n",
    "        lote.to_csv(sftp_file, sep=';', index=False)\n",
    "        sftp.putfo(io.BytesIO(sftp_file.getvalue().encode()), f'/ftp/Entrada/{filename}')\n",
    "\n",
    "# Fechar a conexão com o servidor\n",
    "sftp.close()"
   ]
  },
  {
   "cell_type": "code",
   "execution_count": null,
   "metadata": {},
   "outputs": [],
   "source": [
    "base_enviada_para_higienizar = base_enviada_para_higienizar.drop_duplicates(['CPF'])\n",
    "base_enviada_para_higienizar = base_enviada_para_higienizar.groupby(['BASE'])['CPF'].count().reset_index()\n",
    " \n",
    "\n",
    "def obter_linhas(df):\n",
    "    primeira_linha_base = df['BASE'].iloc[0]\n",
    "    primeira_linha_atraso = df['ATRASO'].iloc[0]\n",
    "    ultima_linha_atraso = df['ATRASO'].iloc[-1]\n",
    "    return primeira_linha_base, primeira_linha_atraso, ultima_linha_atraso\n",
    "\n",
    "# Retorno Relatório Móvel\n",
    "primeira_linha_base_movel, primeira_linha_atraso_movel, ultima_linha_atraso_movel = obter_linhas(higi_movel)\n",
    "\n",
    "# Retorno Relatório TV\n",
    "primeira_linha_base_tv, primeira_linha_atraso_tv, ultima_linha_atraso_tv = obter_linhas(higi_tv)\n",
    "\n",
    "# Retorno Relatório Fixo\n",
    "primeira_linha_base_fixo, primeira_linha_atraso_fixo, ultima_linha_atraso_fixo = obter_linhas(higi_fixo)\n",
    "\n",
    "# Retorno Relatório Gevenue\n",
    "primeira_linha_base_gevenue, primeira_linha_atraso_gevenue, ultima_linha_atraso_gevenue = obter_linhas(higi_gevenue)\n",
    "\n",
    "# Retorno Relatório Net\n",
    "# primeira_linha_base_net, primeira_linha_atraso_net, ultima_linha_atraso_net = obter_linhas(higi_net)\n",
    "\n",
    "\n",
    "def criar_dataframe_retorno(carteira, menor_atraso, maior_atraso):\n",
    "    dados = {\n",
    "        'CARTEIRA': [carteira],\n",
    "        'MENOR_ATRASO': [menor_atraso],\n",
    "        'MAIOR_ATRASO': [maior_atraso]\n",
    "    }\n",
    "    return pd.DataFrame(dados)\n",
    "\n",
    "# Retorno Relatório Móvel\n",
    "higi_semana_movel = criar_dataframe_retorno(primeira_linha_base_movel, primeira_linha_atraso_movel, ultima_linha_atraso_movel)\n",
    "\n",
    "# Retorno Relatório TV\n",
    "higi_semana_tv = criar_dataframe_retorno(primeira_linha_base_tv, primeira_linha_atraso_tv, ultima_linha_atraso_tv)\n",
    "\n",
    "# Retorno Relatório Fixo\n",
    "higi_semana_fixo = criar_dataframe_retorno(primeira_linha_base_fixo, primeira_linha_atraso_fixo, ultima_linha_atraso_fixo)\n",
    "\n",
    "# Retorno Relatório Gevenue\n",
    "higi_semana_gevenue = criar_dataframe_retorno(primeira_linha_base_gevenue, primeira_linha_atraso_gevenue, ultima_linha_atraso_gevenue)\n",
    "\n",
    "# Retorno Relatório Net\n",
    "# higi_semana_net = criar_dataframe_retorno(primeira_linha_base_net, primeira_linha_atraso_net, ultima_linha_atraso_net)\n",
    "\n",
    "# Concatenar todos os DataFrames de retorno\n",
    "# higienizacao_semana = pd.concat([higi_semana_movel, higi_semana_tv, higi_semana_fixo, higi_semana_gevenue, higi_semana_net], ignore_index=True)\n",
    "higienizacao_semana = pd.concat([higi_semana_movel, higi_semana_tv, higi_semana_fixo, higi_semana_gevenue], ignore_index=True)\n",
    "hienizadao_semana_final = pd.merge(base_enviada_para_higienizar, higienizacao_semana, right_on=[\"CARTEIRA\"], left_on=[\"BASE\"], how=\"inner\")\n",
    "\n",
    "hienizadao_semana_final = hienizadao_semana_final.loc[:,['CARTEIRA','CPF',\t'MENOR_ATRASO',\t'MAIOR_ATRASO']]"
   ]
  },
  {
   "cell_type": "code",
   "execution_count": null,
   "metadata": {},
   "outputs": [],
   "source": [
    "hienizadao_semana_final"
   ]
  },
  {
   "cell_type": "code",
   "execution_count": null,
   "metadata": {},
   "outputs": [],
   "source": [
    "hienizadao_semana_final.to_excel(r\"R:\\TI\\TELEFONIA\\BASES CLARO E NET ATIVA\\FEEDBACK_HIGIENIZAÇÃO\\NOVEMBRO_2023/HIGIENIZAÇÃO_CLARO_NET_GEVENUE_0711.xlsx\",index=False)"
   ]
  }
 ],
 "metadata": {
  "kernelspec": {
   "display_name": "Python 3",
   "language": "python",
   "name": "python3"
  },
  "language_info": {
   "codemirror_mode": {
    "name": "ipython",
    "version": 3
   },
   "file_extension": ".py",
   "mimetype": "text/x-python",
   "name": "python",
   "nbconvert_exporter": "python",
   "pygments_lexer": "ipython3",
   "version": "3.9.12"
  },
  "orig_nbformat": 4
 },
 "nbformat": 4,
 "nbformat_minor": 2
}
