{
 "cells": [
  {
   "cell_type": "code",
   "execution_count": null,
   "metadata": {},
   "outputs": [],
   "source": [
    "################################## LENDO A BASE OPERACIONAL DA SEMANA PARA HIGIENIZAR\n",
    "import pandas as pd\n",
    "import numpy as np\n",
    "import pysftp\n",
    "import io\n",
    "import math\n",
    "\n",
    "# CARREGANDO APENAS AS COLUNAS NECESSARIAS PRA HIGIENIZAR (CPF,NOME,TEL,EMAIL)\n",
    "colunas_necessarias_para_higienizar = ['CPF','NOME_x','TELEFONE','EMAIL','TELEFONE_HIGIENIZADO','EMAIL_HIGIENIZADO']\n",
    "\n",
    "telecob_hugo_vigente = pd.read_csv(r\"R:\\TI\\TELEFONIA\\BASES CLARO E NET ATIVA\\BASES SEMANA PADRAO/BASE_OPERACIONAL_TELECOB_HUGO.txt\",sep=';', usecols= colunas_necessarias_para_higienizar,dtype=str)\n",
    "\n",
    "\n",
    "### colocando a base vertical e concatenando\n",
    "df_1_contratante = telecob_hugo_vigente.loc[:,['CPF','NOME_x','TELEFONE','EMAIL']]\n",
    "df_2_higienizados = telecob_hugo_vigente.loc[:,['CPF','NOME_x','TELEFONE_HIGIENIZADO','EMAIL_HIGIENIZADO']]\n",
    "df_2_higienizados = df_2_higienizados.rename(columns={'TELEFONE_HIGIENIZADO':'TELEFONE'})\n",
    "df_2_higienizados = df_2_higienizados.rename(columns={'EMAIL_HIGIENIZADO':'EMAIL'})\n",
    "\n",
    "telecob_hugo_vigente = pd.concat([df_1_contratante,df_2_higienizados])\n",
    "telecob_hugo_vigente = telecob_hugo_vigente.drop_duplicates(['CPF', 'NOME_x','TELEFONE', 'EMAIL'])\n",
    "\n",
    "########### ORGANIZANDO OS CPF'S E RESETANDO O INDEX PRA BAIXAR OS ARQUIVOS\n",
    "telecob_hugo_vigente = telecob_hugo_vigente.sort_values(['CPF'])\n",
    "telecob_hugo_vigente = telecob_hugo_vigente.reset_index(drop=True)\n",
    "telecob_hugo_vigente\n",
    "\n"
   ]
  },
  {
   "cell_type": "code",
   "execution_count": null,
   "metadata": {},
   "outputs": [],
   "source": [
    "# estabelecer conexão SFTP\n",
    "cnopts = pysftp.CnOpts()\n",
    "cnopts.hostkeys = None   # ignore host key verification\n",
    "sftp = pysftp.Connection(host='sftp-afinder.koiketec.com', username='user1009', password='8GEeNgVW5DgbmYyp',port=17592, cnopts=cnopts)\n",
    "\n",
    "\n",
    "# Definir o tamanho desejado para cada lote\n",
    "\n",
    "tamanho_lote = math.ceil(len(telecob_hugo_vigente) / 3)\n",
    "\n",
    "# Calcular o número de lotes necessário\n",
    "num_lotes = int(np.ceil(len(telecob_hugo_vigente) / tamanho_lote))\n",
    "\n",
    "# Dividir o DataFrame em lotes\n",
    "lotes = np.array_split(telecob_hugo_vigente, num_lotes)\n",
    "\n",
    "# Verificar o tamanho de cada lote e ajustar se necessário\n",
    "for i, lote in enumerate(lotes):\n",
    "    if len(lote) > tamanho_lote:\n",
    "        # Dividir o lote em sublotes menores\n",
    "        sublotes = np.array_split(lote, len(lote) // tamanho_lote + 1)\n",
    "        # Substituir o lote original pelos sublotes\n",
    "        lotes[i:i+1] = sublotes\n",
    "\n",
    "# Enviar os lotes via SFTP\n",
    "for i, lote in enumerate(lotes):\n",
    "    filename = f'NET_lote_{i}_COBRANCA.csv'\n",
    "    with io.StringIO() as sftp_file:\n",
    "        lote.to_csv(sftp_file, sep=';', index=False)\n",
    "        sftp.putfo(io.BytesIO(sftp_file.getvalue().encode()), f'/ftp/Entrada/{filename}')\n",
    "\n",
    "# Fechar a conexão com o servidor\n",
    "sftp.close()"
   ]
  },
  {
   "cell_type": "code",
   "execution_count": null,
   "metadata": {},
   "outputs": [],
   "source": []
  },
  {
   "cell_type": "code",
   "execution_count": null,
   "metadata": {},
   "outputs": [],
   "source": [
    "########### ORGANIZANDO OS CPF'S E RESETANDO O INDEX PRA BAIXAR OS ARQUIVOS\n",
    "telecob_hugo_vigente = telecob_hugo_vigente.sort_values(['CPF'])\n",
    "telecob_hugo_vigente = telecob_hugo_vigente.reset_index(drop=True)\n",
    "\n",
    "x = 0\n",
    "y = 3500000\n",
    "\n",
    "for qtd in range(3):\n",
    "    print(f'np_final = df_np.iloc[{x}:{y}]')\n",
    "    \n",
    "    np_final = telecob_hugo_vigente.iloc[x:y]\n",
    "    np_final.to_csv(fr'R:\\TI\\TELEFONIA\\Mailings Prontos\\2023\\Maio\\03\\Jorgin da Clock\\HIGIENIZACAO CLARO_NET_GEVENUE SEMANA 0305\\HIGI_CLARO_NET_GEV_{qtd}_COBRANCA.csv',encoding='utf-8', index=False,sep=';')\n",
    "    x= y+1\n",
    "    y= y+3500000\n",
    "    print(fr'salvando arquivo numero {qtd}')\n"
   ]
  },
  {
   "cell_type": "code",
   "execution_count": null,
   "metadata": {},
   "outputs": [],
   "source": [
    "######################### RODAR SOMENTE QUANDO FOR PARA VALIDAR AS BASES"
   ]
  },
  {
   "cell_type": "code",
   "execution_count": null,
   "metadata": {},
   "outputs": [],
   "source": [
    "################################## LENDO A BASE OPERACIONAL DA SEMANA PARA VALIDAR\n",
    "import pandas as pd\n",
    "import numpy as np\n",
    "# CARREGANDO APENAS AS COLUNAS NECESSARIAS PRA HIGIENIZAR (CPF,NOME,TEL,EMAIL)\n",
    "colunas_necessarias_para_validar = ['CPF','NOME_x','TELEFONE','BASE_CONTRATANTE_VALIDADOS','TELEFONE_HIGIENIZADO','BASE_HIGI_VALIDADOS']\n",
    "\n",
    "telecob_hugo_vigente = pd.read_csv(r\"R:\\TI\\TELEFONIA\\BASES CLARO E NET ATIVA\\BASES SEMANA PADRAO/BASE_OPERACIONAL_TELECOB_HUGO.txt\",sep=';'\n",
    "                                   ,usecols=colunas_necessarias_para_validar,dtype=str)\n",
    "\n",
    "\n",
    "# ######## FILTRANDO APENAS OS TELEFONES QUE NÃO FORAM VALIDADOS\n",
    "# telecob_hugo_vigente = telecob_hugo_vigente.query(\"BASE_CONTRATANTE_VALIDADOS == 'Nao_Validado' and BASE_HIGI_VALIDADOS == 'Nao_Validado' \")\n",
    "df_1_contratante = telecob_hugo_vigente.query(\"BASE_CONTRATANTE_VALIDADOS == 'Nao_Validado'\")\n",
    "df_2_higienizados = telecob_hugo_vigente.query(\"BASE_HIGI_VALIDADOS == 'Nao_Validado' \")\n",
    "\n",
    "### colocando a base vertical e concatenando\n",
    "df_1_contratante = df_1_contratante.loc[:,['CPF','NOME_x','TELEFONE']]\n",
    "df_2_higienizados = df_2_higienizados.loc[:,['CPF','NOME_x','TELEFONE_HIGIENIZADO']]\n",
    "df_2_higienizados = df_2_higienizados.rename(columns={'TELEFONE_HIGIENIZADO':'TELEFONE'})\n",
    "\n",
    "telecob_hugo_vigente = pd.concat([df_1_contratante,df_2_higienizados])\n",
    "telecob_hugo_vigente = telecob_hugo_vigente.drop_duplicates(['CPF', 'NOME_x','TELEFONE'])\n",
    "\n",
    "# removendo todos os NANS\n",
    "telecob_hugo_vigente = telecob_hugo_vigente.query(\"TELEFONE.notnull()\")\n",
    "\n",
    "# FILTRANDO APENAS OS TELEFONES CELULAR '11 DIGITOS'\n",
    "telecob_hugo_vigente = telecob_hugo_vigente[telecob_hugo_vigente['TELEFONE'].str.len()==11]\n",
    "\n",
    "## FILTRANDO SOMENTE A COLUNA TELEFONE\n",
    "telecob_hugo_vigente = telecob_hugo_vigente.loc[:,['TELEFONE']]"
   ]
  },
  {
   "cell_type": "code",
   "execution_count": null,
   "metadata": {},
   "outputs": [],
   "source": [
    "x = 0\n",
    "y = 390000\n",
    "\n",
    "for qtd in range(12):\n",
    "    print(f'np_final = df_np.iloc[{x}:{y}]')\n",
    "    \n",
    "    np_final = telecob_hugo_vigente.iloc[x:y]\n",
    "    np_final.to_csv(fr'R:\\TI\\TELEFONIA\\Mailings Prontos\\2023\\Maio\\03\\Jorgin da Clock\\VALIDACAO CLARO NET GEV 0305\\CLARO_NET_GEV_{qtd}.txt',encoding='utf-8',header=False, index=False,sep=';')\n",
    "    x= y+1\n",
    "    y= y+390000\n",
    "    print(fr'salvando arquivo numero {qtd}')"
   ]
  }
 ],
 "metadata": {
  "kernelspec": {
   "display_name": "Python 3",
   "language": "python",
   "name": "python3"
  },
  "language_info": {
   "codemirror_mode": {
    "name": "ipython",
    "version": 3
   },
   "file_extension": ".py",
   "mimetype": "text/x-python",
   "name": "python",
   "nbconvert_exporter": "python",
   "pygments_lexer": "ipython3",
   "version": "3.10.8"
  },
  "orig_nbformat": 4
 },
 "nbformat": 4,
 "nbformat_minor": 2
}
