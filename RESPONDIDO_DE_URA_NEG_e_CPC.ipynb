{
 "cells": [
  {
   "cell_type": "code",
   "execution_count": 1,
   "metadata": {},
   "outputs": [],
   "source": [
    "# trazendo a base que foi respondido de ura\n",
    "import pymysql\n",
    "import pandas as pd \n",
    "import numpy as np\n",
    "import warnings\n",
    "warnings.filterwarnings('ignore')\n",
    "# Estabelece a conexão com o banco de dados\n",
    "\n",
    "connection = pymysql.connect(\n",
    "    host='10.0.6.2',\n",
    "    user='planejamento',\n",
    "    password='@Planejamento!123',\n",
    "    database='atn'\n",
    ")\n",
    "\n",
    "\n",
    "query = \"\"\"\n",
    "SELECT\n",
    "  t.Chave3,\n",
    "  t.Chave2,\n",
    "  t.CallID,\n",
    "  CONCAT(t.ddd, t.fone),\n",
    "  t.grupoprincipal,\n",
    "  t.ResultadoClassificacao,\n",
    "  t1.codtabulacao,\n",
    "  t2.descricao\n",
    "FROM totalinfo_2023_11 t\n",
    "LEFT JOIN tabulacaooper t1\n",
    "ON t.CallID = t1.callid\n",
    "LEFT JOIN tabulacao t2\n",
    "ON t1.codtabulacao = t2.codtabulacao AND t1.codgrupo  = t2.id_grupo\n",
    "WHERE t.Instante >= '2023-11-13 08:00:00'\n",
    "AND t.Instante <= '2023-11-13 21:00:00'\n",
    "AND t.grupoprincipal IN (6186, 6188, 6190, 6417, 6237, 6333, 6187, 6189, 6191)\n",
    "AND t.ResultadoClassificacao ='VozHumana'\n",
    "AND t1.codtabulacao not in  (24,36,23,21,30,50,2,8,20,45,51,38,27,21,20)\n",
    "\"\"\"\n",
    "\n",
    "respondidos_agv = pd.read_sql(query, connection)\n",
    "\n",
    "## Dando nome as filas\n",
    "respondidos_agv[['grupoprincipal','Chave3'] ]= respondidos_agv[['grupoprincipal','Chave3']].astype(str)  # converte a coluna para o tipo string\n",
    "respondidos_agv.loc[respondidos_agv['grupoprincipal'] == '6186', 'fila'] = 'CLARO'\n",
    "respondidos_agv.loc[respondidos_agv['grupoprincipal'] == '6188', 'fila'] = 'NET'\n",
    "respondidos_agv.loc[respondidos_agv['grupoprincipal'] == '6190', 'fila'] = 'GEVENUE'\n",
    "\n",
    "respondidos_agv.loc[respondidos_agv['grupoprincipal'] == '6187', 'fila'] = 'CLARO'\n",
    "respondidos_agv.loc[respondidos_agv['grupoprincipal'] == '6189', 'fila'] = 'NET'\n",
    "respondidos_agv.loc[respondidos_agv['grupoprincipal'] == '6191', 'fila'] = 'GEVENUE'\n",
    "\n",
    "\n",
    "respondidos_agv.loc[respondidos_agv['grupoprincipal'] == '6417', 'fila'] = 'TIM_COB'\n",
    "respondidos_agv.loc[respondidos_agv['grupoprincipal'] == '6237', 'fila'] = 'TIM_COB'\n",
    "respondidos_agv.loc[respondidos_agv['grupoprincipal'] == '6333', 'fila'] = 'TIM_COB'\n",
    "\n",
    "respondidos_agv['Chave2'] = respondidos_agv['Chave2'] +  ' ' + respondidos_agv['Chave3']\n",
    "respondidos_agv = respondidos_agv[['Chave3','Chave2','CONCAT(t.ddd, t.fone)','fila']]\n",
    "resp_gevenue = respondidos_agv.query(\"fila == 'GEVENUE'\")\n",
    "resp_claro = respondidos_agv.query(\"fila == 'CLARO'\")\n",
    "resp_tim = respondidos_agv.query(\"fila == 'TIM_COB'\")\n",
    "\n",
    "\n",
    "connection.close()"
   ]
  },
  {
   "cell_type": "code",
   "execution_count": 2,
   "metadata": {},
   "outputs": [],
   "source": [
    "resp_gevenue.to_csv(r\"R:\\TI\\TELEFONIA\\Mailings Prontos\\2023\\Novembro\\14\\Markin 7\\respondido/respondido_gevenue_1411.csv\",index=False,sep=';')\n",
    "resp_claro.to_csv(r\"R:\\TI\\TELEFONIA\\Mailings Prontos\\2023\\Novembro\\14\\Markin 7\\respondido/respondido_claro_1411.csv\",index=False,sep=';')\n",
    "resp_tim.to_csv(r\"R:\\TI\\TELEFONIA\\Mailings Prontos\\2023\\Novembro\\14\\Markin 7\\respondido/respondido_tim_1411_.csv\",index=False,sep=';')"
   ]
  }
 ],
 "metadata": {
  "kernelspec": {
   "display_name": "Python 3 (ipykernel)",
   "language": "python",
   "name": "python3"
  },
  "language_info": {
   "codemirror_mode": {
    "name": "ipython",
    "version": 3
   },
   "file_extension": ".py",
   "mimetype": "text/x-python",
   "name": "python",
   "nbconvert_exporter": "python",
   "pygments_lexer": "ipython3",
   "version": "3.9.12"
  }
 },
 "nbformat": 4,
 "nbformat_minor": 2
}
