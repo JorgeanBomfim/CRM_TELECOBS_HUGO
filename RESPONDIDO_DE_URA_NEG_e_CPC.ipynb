{
 "cells": [
  {
   "cell_type": "code",
   "execution_count": null,
   "metadata": {},
   "outputs": [],
   "source": [
    "# trazendo a base que foi respondido de ura\n",
    "import pymysql\n",
    "import pandas as pd \n",
    "import numpy as np\n",
    "import warnings\n",
    "warnings.filterwarnings('ignore')\n",
    "# Estabelece a conexão com o banco de dados\n",
    "connection = pymysql.connect(\n",
    "    host='10.0.6.2',\n",
    "    user='planejamento',\n",
    "    password='@Planejamento!123',\n",
    "    database='atn'\n",
    ")\n",
    "\n",
    "\n",
    "query = \"\"\"\n",
    "SELECT\n",
    "  t.Chave3 AS 'CPF',\n",
    "  t.Chave2 AS 'NOME',\n",
    "  t.CallID,\n",
    "  CONCAT(t.ddd, t.fone) AS Telefone,\n",
    "  t.grupoprincipal,\n",
    "  t.ResultadoClassificacao,\n",
    "  t1.codtabulacao,\n",
    "  t2.descricao,\n",
    "  f.arc_desc,\n",
    "  (CASE\n",
    "    WHEN LOWER(f.arc_desc) LIKE '%movel%' THEN 'MOVEL'\n",
    "    WHEN LOWER(f.arc_desc) LIKE '%net%' THEN 'NET'\n",
    "    WHEN LOWER(f.arc_desc) LIKE '%tv%' THEN 'TV'\n",
    "    WHEN LOWER(f.arc_desc) LIKE '%fixo%' THEN 'FIXO'\n",
    "    ELSE 'OUTRO'\n",
    "  END) AS FILA\n",
    "FROM totalinfo_2024_07 t\n",
    "LEFT JOIN tabulacaooper t1\n",
    "  ON t.CallID = t1.callid\n",
    "LEFT JOIN tabulacao t2\n",
    "  ON t1.codtabulacao = t2.codtabulacao AND t1.codgrupo = t2.id_grupo\n",
    "LEFT JOIN arquivo_mailing f\n",
    "  ON t.id_arquivo = f.ID_ARQUIVOMAILING\n",
    "WHERE t.Instante >= '2024-07-26 08:00:00'\n",
    "  AND t.Instante <= '2024-07-27 22:00:00'\n",
    "  AND t.grupoprincipal IN (6540)\n",
    "  AND t.ResultadoClassificacao = 'VozHumana'\n",
    "  AND t1.codtabulacao NOT IN (24, 36, 23, 21, 30, 50, 2, 8, 20, 45, 51, 38, 27, 21, 20);\n",
    "\"\"\"\n",
    "\n",
    "respondidos_agv = pd.read_sql(query, connection)\n",
    "\n",
    "# ## Dando nome as filas\n",
    "respondidos_agv[['grupoprincipal','CPF'] ]= respondidos_agv[['grupoprincipal','CPF']].astype(str)  # converte a coluna para o tipo string\n",
    "respondidos_agv['NOME'] = respondidos_agv['NOME'] +  ' ' + respondidos_agv['CPF']\n",
    "respondidos_agv = respondidos_agv[['CPF','NOME','Telefone','FILA']]\n",
    "\n",
    "respondidos_agv = respondidos_agv.drop_duplicates(['CPF','Telefone'])\n",
    "\n",
    "resp_movel = respondidos_agv.query(\"FILA == 'MOVEL'\")\n",
    "resp_fixo = respondidos_agv.query(\"FILA == 'FIXO'\")\n",
    "resp_tv = respondidos_agv.query(\"FILA == 'TV'\")\n",
    "resp_net = respondidos_agv.query(\"FILA == 'NET'\")\n",
    "\n",
    "connection.close()"
   ]
  },
  {
   "cell_type": "code",
   "execution_count": null,
   "metadata": {},
   "outputs": [],
   "source": [
    "resp_movel.to_csv(r\"R:\\TI\\TELEFONIA\\Mailings Prontos\\2024\\Julho\\29\\Jorgean/respondido_movel_2907.csv\",index=False,sep=';')\n",
    "resp_fixo.to_csv(r\"R:\\TI\\TELEFONIA\\Mailings Prontos\\2024\\Julho\\29\\Jorgean/respondido_fixo_2907.csv\",index=False,sep=';')\n",
    "resp_tv.to_csv(r\"R:\\TI\\TELEFONIA\\Mailings Prontos\\2024\\Julho\\29\\Jorgean/respondido_tv_2907_.csv\",index=False,sep=';')\n",
    "resp_net.to_csv(r\"R:\\TI\\TELEFONIA\\Mailings Prontos\\2024\\Julho\\29\\Jorgean/respondido_net_2907_.csv\",index=False,sep=';')"
   ]
  }
 ],
 "metadata": {
  "kernelspec": {
   "display_name": "Python 3 (ipykernel)",
   "language": "python",
   "name": "python3"
  },
  "language_info": {
   "codemirror_mode": {
    "name": "ipython",
    "version": 3
   },
   "file_extension": ".py",
   "mimetype": "text/x-python",
   "name": "python",
   "nbconvert_exporter": "python",
   "pygments_lexer": "ipython3",
   "version": "3.10.8"
  }
 },
 "nbformat": 4,
 "nbformat_minor": 2
}
