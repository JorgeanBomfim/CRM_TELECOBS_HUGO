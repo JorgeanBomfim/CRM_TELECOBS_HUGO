{
 "cells": [
  {
   "cell_type": "code",
   "execution_count": null,
   "metadata": {},
   "outputs": [],
   "source": [
    "import pandas as pd \n",
    "import numpy as np\n",
    "import glob  \n",
    "import warnings\n",
    "\n",
    "warnings.filterwarnings('ignore')\n",
    "pd.set_option(\"display.max_columns\", None)\n",
    "\n",
    "#### BASES CLARO COBRANÇA INTERSIC\n",
    "\n",
    "caminho = r\"R:\\TI\\TELEFONIA\\BASES CLARO E NET ATIVA\\BASES CLARO\"\n",
    "arquivos = glob.glob(caminho + \"/*.txt\")\n",
    "#Lista de larguras do layout NET COB\n",
    "lista_de_larguras = [50,50,20,50,20,50,50,100,20,50,9,9,13,13,13,13,13,13,13,13,13,13,13,13,13,13,13,17,17,19,18,8,11]\n",
    "lista = []\n",
    "for arquivo in arquivos:\n",
    "    print(arquivo)\n",
    "    lista.append(arquivo)\n",
    "    \n",
    "    dfList = []\n",
    "    \n",
    "    for item in lista:   \n",
    "        chunks = pd.read_fwf(item, encoding='iso-8859-1', chunksize=1000000, sep=\";\",widths = lista_de_larguras, dtype='str')\n",
    "        for df in chunks:\n",
    "            dfList.append(df)\n",
    "\n",
    "# Criando DataFrame com concat e a lista criada a cima\n",
    "bases_claro = pd.concat(dfList, sort=False, ignore_index=False)\n",
    "\n",
    "bases_claro = bases_claro.loc[:,['CPF','FILA']]\n",
    "\n",
    "# TRATANDO CPF E CNPJ, INCLUINDO ZEROS A ESQUERDA.\n",
    "df_cpfs_correto = bases_claro[bases_claro['CPF'].str.len()==11]\n",
    "df_cnpjs_correto = bases_claro[bases_claro['CPF'].str.len()==14]\n",
    "df_cpfs_corrigir = bases_claro[bases_claro['CPF'].str.len()<11]\n",
    "df_cpfs_corrigir['CPF'] = df_cpfs_corrigir['CPF'].apply(lambda x: '{0:0>11}'.format(x))\n",
    "df_cnpj_corrigir = bases_claro[bases_claro['CPF'].str.len()>11]\n",
    "df_cnpj_corrigir['CPF']  = df_cnpj_corrigir['CPF'].apply(lambda x: '{0:0>14}'.format(x))\n",
    "bases_claro = pd.concat([df_cpfs_correto,df_cpfs_correto,df_cpfs_corrigir,df_cnpj_corrigir],ignore_index=True)\\\n",
    ".drop_duplicates(['CPF','FILA'])\n",
    "bases_claro"
   ]
  },
  {
   "cell_type": "code",
   "execution_count": null,
   "metadata": {},
   "outputs": [],
   "source": [
    "########################################## LENDO A BASE OPERACIONAL PRONTA PARA TRABALHAR\n",
    "caminho = r\"R:\\TI\\TELEFONIA\\BASES CLARO E NET ATIVA\\BASES SEMANA PADRAO\"\n",
    "base_operacional_hugo = pd.read_csv(caminho+\"/BASE_OPERACIONAL_TELECOB_HUGO.txt\", sep=';', dtype=str,decimal=',')\n",
    "\n",
    "base_operacional_hugo['ATRASO'] = base_operacional_hugo['ATRASO'].astype('int16')\n",
    "base_operacional_hugo['BASE'] = base_operacional_hugo['BASE'].apply(lambda x: x.replace('Claro MÃ³vel','Claro Movel'))\n",
    "base_operacional_hugo = base_operacional_hugo.assign(FILA=\"\")\n",
    "\n",
    "\n",
    "\n",
    "###################### CRIANDO OS LAYOUTS PARA OS MAILINGS\n",
    "preditivo_higienizado_claro = [\"CPF\",\"NOME_x\",\"DEVEDOR\",\"BASE\",\"FILA_y\",\"ATRASO\",\"SALDO_ABERTO\",\"TELEFONE_HIGIENIZADO\"]\n",
    "preditivo_validados_claro = [\"CPF\",\"NOME_x\",\"DEVEDOR\",\"BASE\",\"FILA_y\",\"ATRASO\",\"SALDO_ABERTO\",'TELEFONE',\"TELEFONE_HIGIENIZADO\"]\n",
    "preditivo_telefones_intersic = [\"CPF\",\"NOME_x\",\"DEVEDOR\",\"BASE\",\"FILA_y\",\"ATRASO\",\"SALDO_ABERTO\",'TELEFONE']\n"
   ]
  },
  {
   "cell_type": "code",
   "execution_count": null,
   "metadata": {},
   "outputs": [],
   "source": [
    "base_operacional_hugo = base_operacional_hugo.loc[:,preditivo_validados_claro]\n",
    "base_operacional_hugo"
   ]
  },
  {
   "cell_type": "code",
   "execution_count": null,
   "metadata": {},
   "outputs": [],
   "source": [
    "bases_claro_filtrada = pd.merge(base_operacional_hugo, bases_claro, right_on=['CPF'], left_on=['CPF'], how=\"inner\")\n",
    "bases_claro_filtrada\n"
   ]
  },
  {
   "cell_type": "code",
   "execution_count": null,
   "metadata": {},
   "outputs": [],
   "source": [
    "mailing_hgienizado_claro = bases_claro_filtrada.loc[:,preditivo_higienizado_claro]\n",
    "mailing_contratante_claro = bases_claro_filtrada.loc[:,preditivo_telefones_intersic]"
   ]
  },
  {
   "cell_type": "code",
   "execution_count": null,
   "metadata": {},
   "outputs": [],
   "source": [
    "mailing_hgienizado_claro = mailing_hgienizado_claro.query(\"BASE != 'GEVENUE' and BASE != 'NET' \")"
   ]
  },
  {
   "cell_type": "code",
   "execution_count": null,
   "metadata": {},
   "outputs": [],
   "source": [
    "# mailing_hgienizado_claro = mailing_hgienizado_claro.query(\"TELEFONE_HIGIENIZADO.notnull()\").drop_duplicates(['CPF','NOME_x','DEVEDOR','TELEFONE_HIGIENIZADO'])\n",
    "# mailing_hgienizado_claro = mailing_hgienizado_claro.query(\"BASE != 'GEVENUE' and BASE != 'NET' \")\n",
    "\n",
    "# mailing_contratante_claro = mailing_contratante_claro.drop_duplicates(['CPF','NOME_x','DEVEDOR','TELEFONE'])\n",
    "# mailing_contratante_claro = mailing_contratante_claro.query(\"BASE != 'GEVENUE' and BASE != 'NET' \")\n",
    "\n",
    "# display(mailing_hgienizado_claro)\n",
    "# display(mailing_contratante_claro)\n",
    "mailing_hgienizado_claro.to_csv(r\"R:\\TI\\TELEFONIA\\Mailings Prontos\\2023\\Maio\\26\\Jorgin da Clock/mailing_hgienizado_claro.csv\",index=False,sep=';')\n",
    "mailing_contratante_claro.to_csv(r\"R:\\TI\\TELEFONIA\\Mailings Prontos\\2023\\Maio\\26\\Jorgin da Clock/mailing_contratante_claro.csv\",index=False,sep=';')"
   ]
  },
  {
   "cell_type": "code",
   "execution_count": null,
   "metadata": {},
   "outputs": [],
   "source": [
    "mailing_hgienizado_claro"
   ]
  },
  {
   "cell_type": "code",
   "execution_count": null,
   "metadata": {},
   "outputs": [],
   "source": []
  },
  {
   "cell_type": "code",
   "execution_count": null,
   "metadata": {},
   "outputs": [],
   "source": []
  },
  {
   "cell_type": "code",
   "execution_count": null,
   "metadata": {},
   "outputs": [],
   "source": []
  },
  {
   "cell_type": "code",
   "execution_count": null,
   "metadata": {},
   "outputs": [],
   "source": [
    "import pandas as pd \n",
    "import numpy as np\n",
    "import glob  \n",
    "import warnings\n",
    "#### BASES NET COBRANÇA INTERSIC\n",
    "\n",
    "caminho = r\"R:\\TI\\TELEFONIA\\BASES CLARO E NET ATIVA\\BASES NET\"\n",
    "arquivos = glob.glob(caminho + \"/*.txt\")\n",
    "#Lista de larguras do layout NET COB\n",
    "lista_de_larguras = [50,50,20,50,20,50,50,100,20,50,9,9,13,13,13,13,13,13,13,13,13,13,13,13,13,13,13,17,17,19,18,11,20]\n",
    "lista = []\n",
    "for arquivo in arquivos:\n",
    "    print(arquivo)\n",
    "    lista.append(arquivo)\n",
    "    \n",
    "    dfList = []\n",
    "    \n",
    "    for item in lista:   \n",
    "        chunks = pd.read_fwf(item, encoding='iso-8859-1', chunksize=1000000, sep=\";\",widths = lista_de_larguras, dtype='str')\n",
    "        for df in chunks:\n",
    "            dfList.append(df)\n",
    "            \n",
    "###########################################################################################################################################    \n",
    "\n",
    "# Criando DataFrame com concat e a lista criada a cima\n",
    "bases_net = pd.concat(dfList, sort=False, ignore_index=False)\n",
    "\n",
    "bases_net = bases_net.loc[:,['CPF','FILA']]\n",
    "\n",
    "bases_net\n",
    "\n",
    "\n"
   ]
  },
  {
   "cell_type": "code",
   "execution_count": null,
   "metadata": {},
   "outputs": [],
   "source": [
    "pd.merge(base_operacional_hugo, bases_net, right_on=['CPF'], left_on=['CPF'], how=\"inner\")"
   ]
  },
  {
   "cell_type": "code",
   "execution_count": null,
   "metadata": {},
   "outputs": [],
   "source": [
    "bases_net_filtrada = pd.merge(base_operacional_hugo, bases_net, right_on=['CPF'], left_on=['CPF'], how=\"inner\")\n",
    "bases_net_filtrada"
   ]
  },
  {
   "cell_type": "code",
   "execution_count": null,
   "metadata": {},
   "outputs": [],
   "source": [
    "bases_net_filtrada"
   ]
  },
  {
   "cell_type": "code",
   "execution_count": null,
   "metadata": {},
   "outputs": [],
   "source": [
    "mailing_hgienizado_net = bases_net_filtrada.loc[:,preditivo_higienizado_claro]\n",
    "mailing_contratante_net = bases_net_filtrada.loc[:,preditivo_telefones_intersic]"
   ]
  },
  {
   "cell_type": "code",
   "execution_count": null,
   "metadata": {},
   "outputs": [],
   "source": [
    "mailing_hgienizado_net = mailing_hgienizado_net.query(\"TELEFONE_HIGIENIZADO.notnull()\").drop_duplicates(['CPF','NOME_x','DEVEDOR','TELEFONE_HIGIENIZADO'])\\\n",
    ".query('BASE ==\"NET\"')\n",
    "mailing_hgienizado_net\n",
    "\n",
    "mailing_contratante_net = mailing_contratante_net.drop_duplicates(['CPF','NOME_x','DEVEDOR','TELEFONE'])\\\n",
    ".query('BASE ==\"NET\"')\n",
    "mailing_contratante_net"
   ]
  },
  {
   "cell_type": "code",
   "execution_count": null,
   "metadata": {},
   "outputs": [],
   "source": [
    "display(mailing_hgienizado_net)\n",
    "mailing_hgienizado_net.to_csv(r\"R:\\TI\\TELEFONIA\\Mailings Prontos\\2023\\Maio\\26\\Jorgin da Clock/mailing_hgienizado_net.csv\",sep=';',index=False)"
   ]
  }
 ],
 "metadata": {
  "kernelspec": {
   "display_name": "Python 3",
   "language": "python",
   "name": "python3"
  },
  "language_info": {
   "codemirror_mode": {
    "name": "ipython",
    "version": 3
   },
   "file_extension": ".py",
   "mimetype": "text/x-python",
   "name": "python",
   "nbconvert_exporter": "python",
   "pygments_lexer": "ipython3",
   "version": "3.10.8"
  },
  "orig_nbformat": 4
 },
 "nbformat": 4,
 "nbformat_minor": 2
}
