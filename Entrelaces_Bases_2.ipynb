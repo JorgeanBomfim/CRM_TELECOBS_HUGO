{
 "cells": [
  {
   "cell_type": "code",
   "execution_count": null,
   "metadata": {},
   "outputs": [],
   "source": [
    "import pandas as pd\n",
    "import numpy as np\n",
    "import glob\n",
    "import warnings\n",
    "\n",
    "warnings.filterwarnings('ignore')\n",
    "pd.set_option(\"display.max_columns\", None)\n",
    "\n",
    "# CARREGANDO A BASE PADRONIZADA\n",
    "caminho = r\"R:\\TI\\TELEFONIA\\BASES CLARO E NET ATIVA\\BASES SEMANA PADRAO\"\n",
    "arquivos = glob.glob(caminho + \"/*.parquet\")\n",
    "\n",
    "# Lista para armazenar DataFrames\n",
    "dfList = []\n",
    "\n",
    "# Lendo cada arquivo .parquet e adicionando à lista\n",
    "for arquivo in arquivos:\n",
    "    print(f\"Lendo o arquivo: {arquivo}\")\n",
    "    df = pd.read_parquet(arquivo)\n",
    "    dfList.append(df)\n",
    "\n",
    "# Concatenando todos os DataFrames em um único DataFrame\n",
    "df_telecobs_hugo = pd.concat(dfList, ignore_index=True)\n",
    "df_telecobs_hugo\n"
   ]
  },
  {
   "cell_type": "code",
   "execution_count": null,
   "metadata": {},
   "outputs": [],
   "source": [
    "#### Filtrando somente coluna telefone dos contratantes para os telefones que estiverem na base do contratante seja removido da base de higienizados\n",
    "remover_telefones_contratante_do_higienizado = df_telecobs_hugo.loc[:,['TELEFONE']].drop_duplicates(['TELEFONE'])\n",
    "## Criando coluna para identificar na base higienizados os telefones que são iguais aos contratante\n",
    "remover_telefones_contratante_do_higienizado = remover_telefones_contratante_do_higienizado.assign(BASE_TEL_CONTRATANTE=\"CONTRATANTE\")"
   ]
  },
  {
   "cell_type": "code",
   "execution_count": null,
   "metadata": {},
   "outputs": [],
   "source": [
    "#################################################### CARERGANDO A BASE DE TELEFONES HIGIENIZADOS\n",
    "caminho = r\"R:\\TI\\TELEFONIA\\BASES_HIGIENIZADAS_CLARO_E_NET\\TELEFONES CLARO E NET\"\n",
    "arquivos = glob.glob(caminho + \"/*.parquet\")\n",
    "\n",
    "# Lista para armazenar DataFrames\n",
    "dfList = []\n",
    "\n",
    "# Lendo cada arquivo .parquet e adicionando à lista\n",
    "for arquivo in arquivos:\n",
    "    print(f\"Lendo o arquivo: {arquivo}\")\n",
    "    df = pd.read_parquet(arquivo)\n",
    "    dfList.append(df)\n",
    "\n",
    "# Concatenando todos os DataFrames em um único DataFrame\n",
    "telefones_higienizados = pd.concat(dfList, ignore_index=True)\n",
    "telefones_higienizados = telefones_higienizados.rename(columns={'TELEFONE':'TELEFONE_HIGIENIZADO'})\n",
    "\n",
    "telefones_higienizados = pd.merge(telefones_higienizados, remover_telefones_contratante_do_higienizado, right_on=['TELEFONE'], left_on=['TELEFONE_HIGIENIZADO'], how=\"left\").query(\"BASE_TEL_CONTRATANTE != 'CONTRATANTE'\")\\\n",
    ".loc[:,['CPF','NOME','TELEFONE_HIGIENIZADO']]\n"
   ]
  },
  {
   "cell_type": "code",
   "execution_count": null,
   "metadata": {},
   "outputs": [],
   "source": [
    "######################################################  BASE NORMALIZADA X TELEFONES HIGIENIZADOS  ######################################################\n",
    "\n",
    "df_telecobs_hugo = pd.merge(df_telecobs_hugo, telefones_higienizados, right_on=['CPF'], left_on=['CPF'], how=\"left\")\\\n",
    ".loc[:,['CPF','DEVEDOR','NOME_x','TELEFONE','EMAIL','ATRASO','SALDO_ABERTO','BASE','CONTRATO','TELEFONE_HIGIENIZADO']]\n",
    "\n",
    "### REMOVENDO DUPLICADOS DEPOIS DO CRUZAMENTO, PARA EVITAR NOS PROXIMOS CRUZAMENTOS TER VARIOS CPF'S IGUAIS DESNCESSARIAMENTE.\n",
    "df_telecobs_hugo = df_telecobs_hugo.drop_duplicates(['CPF','DEVEDOR', 'NOME_x', 'TELEFONE', 'EMAIL','ATRASO', 'BASE', 'TELEFONE_HIGIENIZADO'])"
   ]
  },
  {
   "cell_type": "code",
   "execution_count": null,
   "metadata": {},
   "outputs": [],
   "source": [
    "#################################################### CARERGANDO A BASE DE TELEFONES HIGIENIZADOS\n",
    "caminho = r\"R:\\TI\\TELEFONIA\\BASES_HIGIENIZADAS_CLARO_E_NET\\EMAILS CLARO E NET\"\n",
    "arquivos = glob.glob(caminho + \"/*.parquet\")\n",
    "\n",
    "# Lista para armazenar DataFrames\n",
    "dfList = []\n",
    "\n",
    "# Lendo cada arquivo .parquet e adicionando à lista\n",
    "for arquivo in arquivos:\n",
    "    print(f\"Lendo o arquivo: {arquivo}\")\n",
    "    df = pd.read_parquet(arquivo)\n",
    "    dfList.append(df)\n",
    "\n",
    "# Concatenando todos os DataFrames em um único DataFrame\n",
    "emails_higienizados = pd.concat(dfList, ignore_index=True)\n",
    "emails_higienizados = emails_higienizados.rename(columns={'EMAIL':'EMAIL_HIGIENIZADO'})\n"
   ]
  },
  {
   "cell_type": "code",
   "execution_count": null,
   "metadata": {},
   "outputs": [],
   "source": [
    "######################################################  BASE NORMALIZADA X EMAILS HIGIENIZADOS  ######################################################\n",
    "df_telecobs_hugo = pd.merge(df_telecobs_hugo, emails_higienizados, right_on=['CPF'], left_on=['CPF'], how=\"left\")\\\n",
    ".loc[:,['CPF','DEVEDOR','NOME_x','TELEFONE','EMAIL','ATRASO','SALDO_ABERTO','BASE','CONTRATO','TELEFONE_HIGIENIZADO','EMAIL_HIGIENIZADO']]\n",
    "\n",
    "### REMOVENDO DUPLICADOS DEPOIS DO CRUZAMENTO, PARA EVITAR NOS PROXIMOS CRUZAMENTOS TER VARIOS CPF'S IGUAIS DESNCESSARIAMENTE.\n",
    "df_telecobs_hugo = df_telecobs_hugo.drop_duplicates(['CPF','DEVEDOR', 'NOME_x', 'TELEFONE', 'EMAIL','ATRASO', 'BASE', 'TELEFONE_HIGIENIZADO', 'EMAIL_HIGIENIZADO'])"
   ]
  },
  {
   "cell_type": "code",
   "execution_count": null,
   "metadata": {},
   "outputs": [],
   "source": [
    "### REMOVENDO DUPLICADOS DEPOIS DO CRUZAMENTO, PARA EVITAR NOS PROXIMOS CRUZAMENTOS TER VARIOS CPF'S IGUAIS DESNCESSARIAMENTE.\n",
    "df_telecobs_hugo = df_telecobs_hugo.drop_duplicates(['CPF','DEVEDOR', 'NOME_x', 'TELEFONE', 'EMAIL','ATRASO', 'BASE','CONTRATO', 'TELEFONE_HIGIENIZADO','EMAIL_HIGIENIZADO'])\n",
    "df_telecobs_hugo"
   ]
  },
  {
   "cell_type": "code",
   "execution_count": null,
   "metadata": {},
   "outputs": [],
   "source": [
    "### SALVANDO OS TELEFONES HIGIENIZADOS EM PARQUET\n",
    "df_telecobs_hugo.to_parquet(r'R:\\TI\\TELEFONIA\\BASES CLARO E NET ATIVA\\BASES SEMANA PADRAO\\BASE_OPERACIONAL/BASE_OPERACIONAL_TELECOB_HUGO.parquet', engine='pyarrow', compression='gzip')"
   ]
  }
 ],
 "metadata": {
  "kernelspec": {
   "display_name": "Python 3",
   "language": "python",
   "name": "python3"
  },
  "language_info": {
   "codemirror_mode": {
    "name": "ipython",
    "version": 3
   },
   "file_extension": ".py",
   "mimetype": "text/x-python",
   "name": "python",
   "nbconvert_exporter": "python",
   "pygments_lexer": "ipython3",
   "version": "3.9.12"
  },
  "orig_nbformat": 4
 },
 "nbformat": 4,
 "nbformat_minor": 2
}
