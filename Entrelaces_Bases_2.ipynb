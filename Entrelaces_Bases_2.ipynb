{
 "cells": [
  {
   "cell_type": "code",
   "execution_count": null,
   "metadata": {},
   "outputs": [],
   "source": [
    "import pandas as pd \n",
    "import numpy as np\n",
    "import glob  \n",
    "import warnings\n",
    "\n",
    "warnings.filterwarnings('ignore')\n",
    "pd.set_option(\"display.max_columns\", None)\n",
    "\n",
    "#################################################### CARERGANDO A BASE QUE FOI NORMALIZADA QUE COMPREENDE A TODAS AS EQUIPES DO HUGO (CLAROS/NET/GEVENUE)\n",
    "\n",
    "caminho = r\"R:\\TI\\TELEFONIA\\BASES CLARO E NET ATIVA\\BASES SEMANA PADRAO\"\n",
    "arquivos = glob.glob(caminho + \"/*.csv\")\n",
    "lista = []\n",
    "for arquivo in arquivos:\n",
    "    print(arquivo)\n",
    "    lista.append(arquivo)\n",
    "    \n",
    "    dfList = []\n",
    "    \n",
    "    for item in lista:   \n",
    "        chunks = pd.read_csv(item, encoding='iso-8859-1', chunksize=1000000, sep=\";\", dtype='str')\n",
    "        for df in chunks:\n",
    "            dfList.append(df)\n",
    "\n",
    "# Criando DataFrame com concat e a lista criada a cima\n",
    "df_telecobs_hugo = pd.concat(dfList, sort=False, ignore_index=False)"
   ]
  },
  {
   "cell_type": "code",
   "execution_count": null,
   "metadata": {},
   "outputs": [],
   "source": [
    "#### Filtrando somente coluna telefone dos contratantes para os telefones que estiverem na base do contratante seja removido da base de higienizados\n",
    "remover_telefones_contratante_do_higienizado = df_telecobs_hugo.loc[:,['TELEFONE']].drop_duplicates(['TELEFONE'])\n",
    "## Criando coluna para identificar na base higienizados os telefones que são iguais aos contratante\n",
    "remover_telefones_contratante_do_higienizado = remover_telefones_contratante_do_higienizado.assign(BASE_TEL_CONTRATANTE=\"CONTRATANTE\")"
   ]
  },
  {
   "cell_type": "code",
   "execution_count": null,
   "metadata": {},
   "outputs": [],
   "source": [
    "#################################################### CARERGANDO A BASE DE TELEFONES HIGIENIZADOS\n",
    "\n",
    "caminho = r\"R:\\TI\\TELEFONIA\\BASES_HIGIENIZADAS_CLARO_E_NET\\TELEFONES CLARO E NET\"\n",
    "arquivos = glob.glob(caminho + \"/*.csv\")\n",
    "lista = []\n",
    "for arquivo in arquivos:\n",
    "    print(arquivo)\n",
    "    lista.append(arquivo)\n",
    "    \n",
    "    dfList = []\n",
    "    \n",
    "    for item in lista:   \n",
    "        chunks = pd.read_csv(item, encoding='iso-8859-1', chunksize=1000000, sep=\";\", dtype='str')\n",
    "        for df in chunks:\n",
    "            dfList.append(df)\n",
    "\n",
    "# Criando DataFrame com concat e a lista criada a cima\n",
    "telefones_higienizados = pd.concat(dfList, sort=False, ignore_index=False)\n",
    "telefones_higienizados = telefones_higienizados.rename(columns={'TELEFONE':'TELEFONE_HIGIENIZADO'})\n",
    "\n",
    "telefones_higienizados = pd.merge(telefones_higienizados, remover_telefones_contratante_do_higienizado, right_on=['TELEFONE'], left_on=['TELEFONE_HIGIENIZADO'], how=\"left\").query(\"BASE_TEL_CONTRATANTE != 'CONTRATANTE'\")\\\n",
    ".loc[:,['CPF','NOME','TELEFONE_HIGIENIZADO']]\n"
   ]
  },
  {
   "cell_type": "code",
   "execution_count": null,
   "metadata": {},
   "outputs": [],
   "source": [
    "######################################################  BASE NORMALIZADA X TELEFONES HIGIENIZADOS  ######################################################\n",
    "\n",
    "df_telecobs_hugo = pd.merge(df_telecobs_hugo, telefones_higienizados, right_on=['CPF'], left_on=['CPF'], how=\"left\")\\\n",
    ".loc[:,['CPF','DEVEDOR','NOME_x','TELEFONE','EMAIL','ATRASO','SALDO_ABERTO','BASE','CONTRATO','TELEFONE_HIGIENIZADO']]\n",
    "\n",
    "### REMOVENDO DUPLICADOS DEPOIS DO CRUZAMENTO, PARA EVITAR NOS PROXIMOS CRUZAMENTOS TER VARIOS CPF'S IGUAIS DESNCESSARIAMENTE.\n",
    "df_telecobs_hugo = df_telecobs_hugo.drop_duplicates(['CPF','DEVEDOR', 'NOME_x', 'TELEFONE', 'EMAIL','ATRASO', 'BASE', 'TELEFONE_HIGIENIZADO'])"
   ]
  },
  {
   "cell_type": "code",
   "execution_count": null,
   "metadata": {},
   "outputs": [],
   "source": [
    "#################################################### CARERGANDO A BASE DE EMAILS HIGIENIZADOS\n",
    "\n",
    "caminho = r\"R:\\TI\\TELEFONIA\\BASES_HIGIENIZADAS_CLARO_E_NET\\EMAILS CLARO E NET\"\n",
    "arquivos = glob.glob(caminho + \"/*.csv\")\n",
    "lista = []\n",
    "for arquivo in arquivos:\n",
    "    print(arquivo)\n",
    "    lista.append(arquivo)\n",
    "    \n",
    "    dfList = []\n",
    "    \n",
    "    for item in lista:   \n",
    "        chunks = pd.read_csv(item, encoding='iso-8859-1', chunksize=1000000, sep=\";\", dtype='str')\n",
    "        for df in chunks:\n",
    "            dfList.append(df)\n",
    "\n",
    "# Criando DataFrame com concat e a lista criada a cima\n",
    "emails_higienizados = pd.concat(dfList, sort=False, ignore_index=False)\n",
    "emails_higienizados = emails_higienizados.rename(columns={'EMAIL':'EMAIL_HIGIENIZADO'})"
   ]
  },
  {
   "cell_type": "code",
   "execution_count": null,
   "metadata": {},
   "outputs": [],
   "source": [
    "######################################################  BASE NORMALIZADA X EMAILS HIGIENIZADOS  ######################################################\n",
    "df_telecobs_hugo = pd.merge(df_telecobs_hugo, emails_higienizados, right_on=['CPF'], left_on=['CPF'], how=\"left\")\\\n",
    ".loc[:,['CPF','DEVEDOR','NOME_x','TELEFONE','EMAIL','ATRASO','SALDO_ABERTO','BASE','CONTRATO','TELEFONE_HIGIENIZADO','EMAIL_HIGIENIZADO']]\n",
    "\n",
    "### REMOVENDO DUPLICADOS DEPOIS DO CRUZAMENTO, PARA EVITAR NOS PROXIMOS CRUZAMENTOS TER VARIOS CPF'S IGUAIS DESNCESSARIAMENTE.\n",
    "df_telecobs_hugo = df_telecobs_hugo.drop_duplicates(['CPF','DEVEDOR', 'NOME_x', 'TELEFONE', 'EMAIL','ATRASO', 'BASE', 'TELEFONE_HIGIENIZADO', 'EMAIL_HIGIENIZADO'])"
   ]
  },
  {
   "cell_type": "code",
   "execution_count": null,
   "metadata": {},
   "outputs": [],
   "source": [
    "#################################################### CARERGANDO A BASE DE VALIDADOS\n",
    "\n",
    "caminho = r\"R:\\TI\\TELEFONIA\\BASE DE VALIDADOS\"\n",
    "arquivos = glob.glob(caminho + \"/*.csv\")\n",
    "lista = []\n",
    "for arquivo in arquivos:\n",
    "    print(arquivo)\n",
    "    lista.append(arquivo)\n",
    "    \n",
    "    dfList = []\n",
    "    \n",
    "    for item in lista:   \n",
    "        chunks = pd.read_csv(item, encoding='iso-8859-1', chunksize=1000000, sep=\";\", dtype='str',usecols=['Numero', 'Usa whatsapp', 'data de envio'])\n",
    "        for df in chunks:\n",
    "            dfList.append(df)\n",
    "\n",
    "# Criando DataFrame com concat e a lista criada a cima\n",
    "telefones_validados = pd.concat(dfList, sort=False, ignore_index=False)"
   ]
  },
  {
   "cell_type": "code",
   "execution_count": null,
   "metadata": {},
   "outputs": [],
   "source": [
    "######################################################  BASE NORMALIZADA X TELEFONES INTERSIC E GEVENUE  ######################################################\n",
    "\n",
    "df_telecobs_hugo = pd.merge(df_telecobs_hugo, telefones_validados, right_on=['Numero'], left_on=['TELEFONE'], how=\"left\")\\\n",
    ".loc[:,['CPF','DEVEDOR','NOME_x','TELEFONE','Usa whatsapp','data de envio','EMAIL','ATRASO','SALDO_ABERTO','BASE','CONTRATO','TELEFONE_HIGIENIZADO','EMAIL_HIGIENIZADO']]\n",
    "\n",
    "############ APÓS O CRUZAMENTO, MARCAMOS COMO \"NAO_VALIDADO\" A BASE QUE NÃO FOI ENCONTRADA NO BANCO DE VALIDOS OU NAO.\n",
    "########## RENOMEANDO A COLUNA SE USA WHATSS PARA IDENTIFICAR QUE A VALIDAÇÃO É REFERENTE A BASE DE CONTRATANTE / DATA DA VALIDACAO TAMBEM\n",
    "df_telecobs_hugo['Usa whatsapp'] = df_telecobs_hugo['Usa whatsapp'].fillna('Nao_Validado')\n",
    "df_telecobs_hugo = df_telecobs_hugo.rename(columns={'Usa whatsapp':'BASE_CONTRATANTE_VALIDADOS'})\n",
    "df_telecobs_hugo = df_telecobs_hugo.rename(columns={'data de envio':'DATA_VALIDACAO_CONTRATANTE'})\n",
    "\n",
    "######################################################  BASE NORMALIZADA X TELEFONES HIGIENIZADOS  ######################################################\n",
    "\n",
    "df_telecobs_hugo = pd.merge(df_telecobs_hugo, telefones_validados, right_on=['Numero'], left_on=['TELEFONE_HIGIENIZADO'], how=\"left\")\\\n",
    ".loc[:,['CPF','DEVEDOR','NOME_x','TELEFONE','BASE_CONTRATANTE_VALIDADOS','DATA_VALIDACAO_CONTRATANTE','EMAIL','ATRASO','SALDO_ABERTO','BASE','CONTRATO',\n",
    "        'TELEFONE_HIGIENIZADO','Usa whatsapp','data de envio','EMAIL_HIGIENIZADO']]\n",
    "\n",
    "############ APÓS O CRUZAMENTO, MARCAMOS COMO \"NAO_VALIDADO\" A BASE QUE NÃO FOI ENCONTRADA NO BANCO DE VALIDOS OU NAO.\n",
    "df_telecobs_hugo['Usa whatsapp'] = df_telecobs_hugo['Usa whatsapp'].fillna('Nao_Validado')\n",
    "############ APÓS O CRUZAMENTO, MARCAMOS COMO \"NAO_VALIDADO\" A BASE QUE NÃO FOI ENCONTRADA NO BANCO DE VALIDOS OU NAO.\n",
    "########## RENOMEANDO A COLUNA SE USA WHATSS PARA IDENTIFICAR QUE A VALIDAÇÃO É REFERENTE A BASE DE CONTRATANTE / DATA DA VALIDACAO TAMBEM\n",
    "df_telecobs_hugo = df_telecobs_hugo.rename(columns={'Usa whatsapp':'BASE_HIGI_VALIDADOS'})\n",
    "df_telecobs_hugo = df_telecobs_hugo.rename(columns={'data de envio':'DATA_VALIDACAO_HIGI'})"
   ]
  },
  {
   "cell_type": "code",
   "execution_count": null,
   "metadata": {},
   "outputs": [],
   "source": [
    "### REMOVENDO DUPLICADOS DEPOIS DO CRUZAMENTO, PARA EVITAR NOS PROXIMOS CRUZAMENTOS TER VARIOS CPF'S IGUAIS DESNCESSARIAMENTE.\n",
    "df_telecobs_hugo = df_telecobs_hugo.drop_duplicates(['CPF','DEVEDOR', 'NOME_x', 'TELEFONE', 'EMAIL','ATRASO', 'BASE','CONTRATO', 'TELEFONE_HIGIENIZADO','EMAIL_HIGIENIZADO'])\n",
    "df_telecobs_hugo"
   ]
  },
  {
   "cell_type": "code",
   "execution_count": null,
   "metadata": {},
   "outputs": [],
   "source": [
    "df_telecobs_hugo.to_csv(r\"R:\\TI\\TELEFONIA\\BASES CLARO E NET ATIVA\\BASES SEMANA PADRAO/BASE_OPERACIONAL_TELECOB_HUGO.txt\",index=False, sep=';')"
   ]
  }
 ],
 "metadata": {
  "kernelspec": {
   "display_name": "Python 3",
   "language": "python",
   "name": "python3"
  },
  "language_info": {
   "codemirror_mode": {
    "name": "ipython",
    "version": 3
   },
   "file_extension": ".py",
   "mimetype": "text/x-python",
   "name": "python",
   "nbconvert_exporter": "python",
   "pygments_lexer": "ipython3",
   "version": "3.10.8"
  },
  "orig_nbformat": 4
 },
 "nbformat": 4,
 "nbformat_minor": 2
}
