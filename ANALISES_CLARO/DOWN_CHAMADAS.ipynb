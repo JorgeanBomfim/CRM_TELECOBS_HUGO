{
 "cells": [
  {
   "cell_type": "code",
   "execution_count": 1,
   "metadata": {},
   "outputs": [],
   "source": [
    "from funcoes_claro import *\n",
    "\n",
    "pd.set_option(\"display.max_columns\", None)\n",
    "warnings.filterwarnings('ignore')\n",
    "\n",
    "# A lista apenas facilita caso futuramente seja necessario rodar mais de uma fila.\n",
    "# O ideal é rodar dia a dia, analisando oque gerou para correções de infos\n",
    "datas = ['2024-07-17','2024-07-18','2024-07-19','2024-07-20','2024-07-22']\n",
    "\n",
    "# Loop pelas datas\n",
    "for periodo in datas:\n",
    "    # Gerar resultado das discagens da akiva de todas as filas, preditivas e URA AGV\n",
    "    discagens_claro = pd.read_sql_query(parametro_busca(periodo, periodo), conectar_banco())\n",
    "    \n",
    "    # Verificar se o DataFrame está vazio\n",
    "    if discagens_claro.empty:\n",
    "        print(f\"Sem dados para a data: {periodo}\")\n",
    "        continue  # Pular para a próxima data\n",
    "    \n",
    "    # Processar dados se o DataFrame não estiver vazio\n",
    "    data = discagens_claro['DATA'].iloc[0].replace('/', '-')\n",
    "    \n",
    "    discagens_dia_total = discagens_claro.groupby(['DATA', 'TELEFONE']).agg({\n",
    "        'DISCADO_SIM': 'sum',\n",
    "        'ATENDIDO_SIM': 'sum',\n",
    "        'DTMF_SIM': 'sum'\n",
    "    }).reset_index()\n",
    "    \n",
    "    # Salvar o resultado em CSV\n",
    "    discagens_dia_total.to_csv(rf'R:\\TI\\TELEFONIA\\BASES CLARO E NET ATIVA\\BASES CLARO\\CHAMADAS_EQUIPE_CLARO\\JULHO_24/disc_claro_{data}.csv', sep=';', index=False)\n",
    "    \n",
    "# Fechar conexões com o banco\n",
    "fechar_conexao()"
   ]
  },
  {
   "cell_type": "code",
   "execution_count": 2,
   "metadata": {},
   "outputs": [],
   "source": [
    "from funcoes_claro import *\n",
    "\n",
    "pd.set_option(\"display.max_columns\", None)\n",
    "warnings.filterwarnings('ignore')\n",
    "\n",
    "# A lista apenas facilita caso futuramente seja necessario rodar mais de uma fila.\n",
    "# O ideal é rodar dia a dia, analisando oque gerou para correções de infos\n",
    "datas = ['2024-07-17','2024-07-18','2024-07-19','2024-07-20','2024-07-22']\n",
    "\n",
    "# Loop pelas datas\n",
    "for periodo in datas:\n",
    "    # Gerar resultado das discagens da akiva de todas as filas, preditivas e URA AGV\n",
    "    atendidas_agentes_teles = pd.read_sql_query(chamadas_agentes(periodo, periodo), conectar_banco())\n",
    "    \n",
    "    # Verificar se o DataFrame está vazio\n",
    "    if atendidas_agentes_teles.empty:\n",
    "        print(f\"Sem dados para a data: {periodo}\")\n",
    "        continue  # Pular para a próxima data\n",
    "    \n",
    "    # Processar dados se o DataFrame não estiver vazio\n",
    "    data = atendidas_agentes_teles['DATA'].iloc[0].replace('/', '-')\n",
    "    \n",
    "    # Salvar o resultado em CSV\n",
    "    atendidas_agentes_teles.to_csv(rf'R:\\TI\\TELEFONIA\\BASES CLARO E NET ATIVA\\BASES CLARO\\CHAMADAS_EQUIPE_CLARO\\JULHO_24\\ATENDIDAS AGENTES JULHO/atendidas_agentes_teles_{data}.csv', sep=';', index=False)\n",
    "    \n",
    "# Fechar conexões com o banco\n",
    "fechar_conexao()"
   ]
  }
 ],
 "metadata": {
  "kernelspec": {
   "display_name": "Python 3",
   "language": "python",
   "name": "python3"
  },
  "language_info": {
   "codemirror_mode": {
    "name": "ipython",
    "version": 3
   },
   "file_extension": ".py",
   "mimetype": "text/x-python",
   "name": "python",
   "nbconvert_exporter": "python",
   "pygments_lexer": "ipython3",
   "version": "3.10.8"
  }
 },
 "nbformat": 4,
 "nbformat_minor": 2
}
