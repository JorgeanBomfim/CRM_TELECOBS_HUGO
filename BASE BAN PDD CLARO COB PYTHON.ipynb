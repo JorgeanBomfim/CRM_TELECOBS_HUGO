{
 "cells": [
  {
   "cell_type": "code",
   "execution_count": null,
   "metadata": {},
   "outputs": [],
   "source": [
    "############ CARREGA TODAS AS LINHAS 2.0\n",
    "\n",
    "import pandas as pd\n",
    "colunas=['COD_CONTA','PRODUTO','NOME','CPF_CNPJ','SENHA']\n",
    "# Caminho para o arquivo CSV\n",
    "file_path = r\"R:\\TI\\TELEFONIA\\Mailings Prontos\\2023\\Agosto\\11\\Jorgin da Clock\\BASE DE COBRANÇA INTERSIC\\BASE_COBRANCA_20230806_ATN_154/BASE_COBRANCA_20230806_ATN_154.txt\"\n",
    "\n",
    "base_claro = pd.read_csv(file_path, sep=\"\\t\", dtype=str, encoding='iso-8859-1', engine='python', error_bad_lines=False, warn_bad_lines=True,skiprows=1,usecols = colunas)\n",
    "\n",
    "base_claro = base_claro.query(\"PRODUTO == 'Claro MÃ³vel'\")\n",
    "base_claro['COD_CONTA'] = base_claro['COD_CONTA'].astype('int64')\n",
    "\n",
    "base_claro = base_claro[base_claro.apply(lambda x: len(str(x[\"COD_CONTA\"])) == 9, axis=1)]\n",
    "base_claro = base_claro.reset_index(drop=True)\n",
    "\n",
    "\n",
    "base_claro\n"
   ]
  },
  {
   "cell_type": "code",
   "execution_count": null,
   "metadata": {},
   "outputs": [],
   "source": [
    "base_claro.to_csv(r\"R:\\TI\\TELEFONIA\\Mailings Prontos\\2023\\Agosto\\11\\Jorgin da Clock\\BASE PDD 1108/base_claro_localizada_1108.csv\",index=False,sep=\";\")"
   ]
  },
  {
   "cell_type": "code",
   "execution_count": null,
   "metadata": {
    "ExecuteTime": {
     "end_time": "2022-11-11T15:11:22.533770Z",
     "start_time": "2022-11-11T15:11:21.619710Z"
    }
   },
   "outputs": [],
   "source": [
    "# carregando as bases de pdd que normalmente sao dividida em 2\n",
    "pdd_1 = pd.read_csv(r\"R:\\TI\\TELEFONIA\\Mailings Prontos\\2023\\Setembro\\8\\Markin 7\\BASE_PPD_0809\\Base_Pre_PDD_1/Base_Pre_PDD_1.txt\",names=['ACCOUNT_ID'])\n",
    "pdd_2 = pd.read_csv(r\"R:\\TI\\TELEFONIA\\Mailings Prontos\\2023\\Setembro\\8\\Markin 7\\BASE_PPD_0809\\Base_Pre_PDD_2/Base_Pre_PDD_2.txt\",names=['ACCOUNT_ID'])\n",
    "\n",
    "pdd = pd.concat([pdd_1,pdd_2])\n",
    "\n",
    "pdd = pdd.drop_duplicates(['ACCOUNT_ID']).reset_index(drop=True)\n",
    "pdd"
   ]
  },
  {
   "cell_type": "code",
   "execution_count": null,
   "metadata": {
    "ExecuteTime": {
     "end_time": "2022-11-11T15:11:27.651137Z",
     "start_time": "2022-11-11T15:11:26.971743Z"
    }
   },
   "outputs": [],
   "source": [
    "# fazendo um merges com os groupbys de cada DF\n",
    "base_claro = pd.merge(pdd, base_claro,  right_on=[\"COD_CONTA\"], left_on=[\"ACCOUNT_ID\"], how=\"inner\")\n",
    "base_claro"
   ]
  },
  {
   "cell_type": "code",
   "execution_count": null,
   "metadata": {},
   "outputs": [],
   "source": [
    "# CARREGANDO A BASE COM O TELEFONE HIGIENIZADO E CONTRATANTE\n",
    "df_mailing = pd.read_csv(r\"R:\\TI\\TELEFONIA\\BASES CLARO E NET ATIVA\\BASES SEMANA PADRAO/BASE_OPERACIONAL_TELECOB_HUGO.txt\",sep=';',dtype=str)\n",
    "df_mailing = df_mailing.loc[:,['CPF','DEVEDOR','NOME_x','TELEFONE','TELEFONE_HIGIENIZADO','ATRASO','BASE']].query(\"BASE == 'Claro Móvel'\")\n",
    "df_mailing"
   ]
  },
  {
   "cell_type": "code",
   "execution_count": null,
   "metadata": {
    "ExecuteTime": {
     "end_time": "2022-10-19T16:46:15.607992Z",
     "start_time": "2022-10-19T16:46:14.961567Z"
    }
   },
   "outputs": [],
   "source": [
    "base_claro = pd.merge(base_claro, df_mailing,  right_on=[\"DEVEDOR\"], left_on=[\"SENHA\"], how=\"inner\")\\\n",
    "    .loc[:,['ACCOUNT_ID','COD_CONTA','PRODUTO','CPF_CNPJ','NOME','SENHA','TELEFONE','TELEFONE_HIGIENIZADO','BASE','ATRASO']]\\\n",
    "        .drop_duplicates(['ACCOUNT_ID','COD_CONTA','CPF_CNPJ','NOME','SENHA','TELEFONE','TELEFONE_HIGIENIZADO'])\n",
    "\n",
    "\n",
    "base_contratante = base_claro.loc[:,['ACCOUNT_ID','COD_CONTA','PRODUTO','CPF_CNPJ','NOME','SENHA','TELEFONE','BASE','ATRASO']]\n",
    "base_higienizada = base_claro.loc[:,['ACCOUNT_ID','COD_CONTA','PRODUTO','CPF_CNPJ','NOME','SENHA','TELEFONE_HIGIENIZADO','BASE','ATRASO']]\n",
    "base_higienizada = base_higienizada.rename(columns={'TELEFONE_HIGIENIZADO':'TELEFONE'})\n",
    "\n",
    "\n",
    "base_final = pd.concat([base_contratante,base_higienizada])\n",
    "base_final = base_final.drop_duplicates(['ACCOUNT_ID','COD_CONTA','CPF_CNPJ','NOME','SENHA','TELEFONE'])\n",
    "base_final = base_final.query(\"TELEFONE.notnull()\")\n",
    "\n",
    "# ### Baixando se caso precise subir um mailing com essa base \n",
    "base_final.to_csv(r\"R:\\TI\\TELEFONIA\\Mailings Prontos\\2023\\Setembro\\8\\Markin 7\\BASE_PPD_0809/mailing_pdd_1108.csv\",index=False,sep=';')\n",
    "\n"
   ]
  },
  {
   "cell_type": "code",
   "execution_count": null,
   "metadata": {},
   "outputs": [],
   "source": [
    "# resumo de cpf por atraso, jessica sempre pede\n",
    "group_pdd = base_claro.groupby(['ATRASO'])['CPF_CNPJ'].count().reset_index().sort_values(['ATRASO'],ascending=True)\n",
    "group_pdd.to_csv(r\"R:\\TI\\TELEFONIA\\Mailings Prontos\\2023\\Setembro\\8\\Markin 7\\BASE_PPD_0809/group_pdd.csv\",index=False,sep=';')\n",
    "\n",
    "group_pdd"
   ]
  },
  {
   "cell_type": "code",
   "execution_count": null,
   "metadata": {},
   "outputs": [],
   "source": []
  }
 ],
 "metadata": {
  "kernelspec": {
   "display_name": "Python 3",
   "language": "python",
   "name": "python3"
  },
  "language_info": {
   "codemirror_mode": {
    "name": "ipython",
    "version": 3
   },
   "file_extension": ".py",
   "mimetype": "text/x-python",
   "name": "python",
   "nbconvert_exporter": "python",
   "pygments_lexer": "ipython3",
   "version": "3.9.12"
  },
  "vscode": {
   "interpreter": {
    "hash": "4808b291ec85e67d897b5e1f07fdb01804cb7310de050e90237ad8cf08940fad"
   }
  }
 },
 "nbformat": 4,
 "nbformat_minor": 4
}
