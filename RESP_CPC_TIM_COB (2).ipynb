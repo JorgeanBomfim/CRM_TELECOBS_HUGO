{
 "cells": [
  {
   "cell_type": "code",
   "execution_count": null,
   "metadata": {},
   "outputs": [],
   "source": [
    "import pymysql\n",
    "import pandas as pd \n",
    "import numpy as np\n",
    "import glob  \n",
    "import warnings\n",
    "\n",
    "from datetime import datetime, timedelta\n",
    "\n",
    "pd.set_option(\"display.max_columns\", None)\n",
    "warnings.filterwarnings('ignore')\n",
    "\n",
    "connection = pymysql.connect(host=\"10.0.6.2\",\n",
    "    user=\"planejamento\",\n",
    "    password=\"@Planejamento!123\",\n",
    "    database=\"atn\"\n",
    ")\n",
    "\n",
    "query =f\"\"\"\n",
    "    SELECT DATA,DOCUMENTO,NOME,CONCAT(DDD,TELEFONE) AS TELEFONE\n",
    "    FROM mailing_abandono_tim a\n",
    "    WHERE a.`DATA`= '2023-07-31'\n",
    "    \"\"\"\n",
    "\n",
    "# Usa a função read_sql() do Pandas para executar a consulta e armazenar\n",
    "resp_tim_cob = pd.read_sql(query, connection)\n",
    "\n",
    "connection.close()\n",
    "resp_tim_cob"
   ]
  },
  {
   "cell_type": "code",
   "execution_count": null,
   "metadata": {},
   "outputs": [],
   "source": [
    "resp_tim_cob.to_csv(r'R:\\TI\\TELEFONIA\\Mailings Prontos\\2023\\Agosto\\1\\Jorgin da Clock/resp_tim_cob_0108.csv',sep=';',index=False)"
   ]
  }
 ],
 "metadata": {
  "kernelspec": {
   "display_name": "Python 3",
   "language": "python",
   "name": "python3"
  },
  "language_info": {
   "codemirror_mode": {
    "name": "ipython",
    "version": 3
   },
   "file_extension": ".py",
   "mimetype": "text/x-python",
   "name": "python",
   "nbconvert_exporter": "python",
   "pygments_lexer": "ipython3",
   "version": "3.9.12"
  },
  "orig_nbformat": 4
 },
 "nbformat": 4,
 "nbformat_minor": 2
}
