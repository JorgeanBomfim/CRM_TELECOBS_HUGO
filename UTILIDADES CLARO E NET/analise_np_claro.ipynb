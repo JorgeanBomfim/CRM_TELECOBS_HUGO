{
 "cells": [
  {
   "cell_type": "code",
   "execution_count": null,
   "metadata": {},
   "outputs": [],
   "source": [
    "import dask.dataframe as dd\n",
    "import pandas as pd\n",
    "\n",
    "# Caminho para o arquivo CSV\n",
    "file_path = r\"R:\\TI\\TELEFONIA\\BASES CLARO E NET ATIVA\\BASE DE COBRANÇA/BASE_COBRANCA_20240317_ATN_186.txt\"\n",
    "\n",
    "# Leitura do arquivo CSV com Dask\n",
    "dask_df = dd.read_csv(file_path, sep=\"\\t\", dtype=str, encoding='iso-8859-1', engine='python', error_bad_lines=False, warn_bad_lines=True, skiprows=1)\n",
    "\n",
    "\n",
    "# Converter para DataFrame Pandas\n",
    "base_claro = dask_df.compute()\n",
    "\n",
    "# Definir as colunas desejadas\n",
    "colunas = ['CPF_CNPJ', 'SENHA', 'TELEFONE_CELULAR', 'TELEFONE_COMERCIAL', 'UF', 'VALOR_COBRANCA', 'TEL_01', 'TEL_02', 'TEL_03', 'TEL_04', 'TEL_05', 'TEL_06', 'TEL_07', 'TEL_08', 'TEL_09', 'TEL_10', 'CEL_01', 'CEL_02', 'CEL_03', 'CEL_04', 'CEL_05', 'CEL_06', 'CEL_07', 'CEL_08', 'CEL_09', 'CEL_10', 'MUNICIPIO','PRODUTO']\n",
    "base_claro = base_claro[colunas]\n",
    "\n",
    "# Resetar índices\n",
    "base_claro = base_claro.reset_index(drop=True)\n",
    "\n",
    "\n",
    "base_claro\n",
    "\n",
    "# Agora você pode usar o DataFrame 'base_claro' para análises e manipulações adicionais\n"
   ]
  },
  {
   "cell_type": "code",
   "execution_count": null,
   "metadata": {},
   "outputs": [],
   "source": [
    "base_claro = base_claro.query(\"UF == 'SP'\")\n",
    "base_claro\n",
    "\n",
    "\n",
    "base_claro.to_csv(r\"R:\\TI\\TELEFONIA\\Mailings Prontos\\2024\\Março\\20\\Jorgean\\BASE DE COBRANCA TRATADA/base_cobranca_claro_tratada_2003.csv\",sep=';',index=False)"
   ]
  },
  {
   "cell_type": "code",
   "execution_count": null,
   "metadata": {},
   "outputs": [],
   "source": [
    "import pandas as pd\n",
    "import glob\n",
    "pd.set_option(\"display.max_columns\", None)\n",
    "\n",
    "caminho = r\"R:\\TI\\TELEFONIA\\BASES CLARO E NET ATIVA\\BASE DE COBRANÇA\\Base de Cobrança GEV\\BASE_COBRANCA_20240317_T_ATN_4197.txt\"\n",
    "arquivos = glob.glob(caminho + \"/*.txt\")\n",
    "\n",
    "lista_de_larguras =[15,12,15,40,8,15,10,50,16,16,16,16,30,10,12,12,12,12,12,12,12,10,10,50,50,50,50,10,300,40,2,9,10,300,40,2,9,2,10,2,10,2,10,2,10,2,10,2,10,2,10,2,10]\n",
    "\n",
    "header_novo_gevenue = [\n",
    "    \"CÓDIGO DA CONTA\",\n",
    "    \"SENHA\",    \"PRODUTO\",    \"NOME\",    \"TIPO DE PESSOA\",    \"CPF/CNPJ\",\n",
    "    \"DATA_NASCIMENTO\",    \"FILA_COBRANCA\",    \"ULT_DATA_SMS\",    \"ULT_DATA_CARTA\",\n",
    "    \"ULT_DATA_URA\",    \"ULT_DATA_EMAIL\",    \"CARTEIRA (REGIÃO)\",    \"VENCIMENTO\",    \"Valor Claro Móvel\",\n",
    "    \"Valor Claro Residencial\",    \"Valor Claro Empresarial\",    \"Valor Claro Fixo\",    \"Valor Claro TV\",\n",
    "    \"Valor TvExpurgo\",    \"Valor Oi\",    \"DATA_NEGATIVACAO\",    \"DATA_CADASTRO\",    \"STATUS_CONTRATO_NET\",\n",
    "    \"EMAIL_01\",    \"EMAIL_02\",    \"EMAIL_03\",    \"TIPO_DE_ENDERECO_1\",\n",
    "    \"ORIGEM_ENDERECO_1\",    \"CIDADE_END_INS\",    \"ESTADO_END_INS\",    \"CEP_END_INS\",    \"TIPO_DE_ENDERECO_2\",\n",
    "    \"ORIGEM_ENDERECO_2\",    \"CIDADE_END_FAT\",    \"UF_END_FAT\",    \"CEP_END_FAT\",    \"DDD_FIXO_1\",\n",
    "    \"TEL_FIXO_1\",    \"DDD_FIXO_2\",    \"TEL_FIXO_2\",    \"DDD_FIXO_3\",    \"TEL_FIXO_3\",\n",
    "    \"DDD_FIXO_4\",    \"TEL_FIXO_4\",    \"DDD_CEL_1\",    \"TEL_CEL_1\",    \"DDD_CEL_2\",\n",
    "    \"TEL_CEL_2\",    \"DDD_CEL_3\",    \"TEL_CEL_3\",    \"DDD_CEL_4\",    \"TEL_CEL_4\"]\n",
    "\n",
    "\n",
    "\n",
    "base_gevenue = pd.read_fwf(caminho, encoding='utf-8',sep='\\t',widths = lista_de_larguras ,names = header_novo_gevenue,dtype='str')\n",
    "\n",
    "base_gevenue.head()\n",
    "\n",
    "base_gevenue = base_gevenue.loc[:,['CPF/CNPJ', 'SENHA', 'UF_END_FAT', \"Valor Claro Móvel\",\"Valor Claro Residencial\",    \"Valor Claro Empresarial\",    \"Valor Claro Fixo\",    \"Valor Claro TV\",\n",
    "    \"Valor TvExpurgo\",    \"Valor Oi\", 'CARTEIRA (REGIÃO)','PRODUTO','DDD_FIXO_1','TEL_FIXO_1','DDD_FIXO_2','TEL_FIXO_2','DDD_FIXO_3','TEL_FIXO_3','DDD_FIXO_4','TEL_FIXO_4','DDD_CEL_1','TEL_CEL_1',\n",
    "               \t'DDD_CEL_2','TEL_CEL_2','DDD_CEL_3','TEL_CEL_3','DDD_CEL_4','TEL_CEL_4']]\n",
    "\n",
    "base_gevenue = base_gevenue.query(\"UF_END_FAT == 'SP'\")\n",
    "base_gevenue\n"
   ]
  },
  {
   "cell_type": "code",
   "execution_count": null,
   "metadata": {},
   "outputs": [],
   "source": [
    "gev_1 = base_gevenue.loc[:,['CPF/CNPJ', 'SENHA', 'UF_END_FAT', \"Valor Claro Móvel\",\"Valor Claro Residencial\",    \"Valor Claro Empresarial\",    \"Valor Claro Fixo\",    \"Valor Claro TV\",\n",
    "\"Valor TvExpurgo\",    \"Valor Oi\", 'CARTEIRA (REGIÃO)','PRODUTO','DDD_FIXO_1','TEL_FIXO_1','DDD_CEL_1','TEL_CEL_1' ]]\n",
    "\n",
    "gev_2 = base_gevenue.loc[:,['CPF/CNPJ', 'SENHA', 'UF_END_FAT', \"Valor Claro Móvel\",\"Valor Claro Residencial\",    \"Valor Claro Empresarial\",    \"Valor Claro Fixo\",    \"Valor Claro TV\",\n",
    "\"Valor TvExpurgo\",    \"Valor Oi\", 'CARTEIRA (REGIÃO)','PRODUTO','DDD_FIXO_2','TEL_FIXO_2','DDD_CEL_2','TEL_CEL_2']]\n",
    "\n",
    "gev_3 = base_gevenue.loc[:,['CPF/CNPJ', 'SENHA', 'UF_END_FAT', \"Valor Claro Móvel\",\"Valor Claro Residencial\",    \"Valor Claro Empresarial\",    \"Valor Claro Fixo\",    \"Valor Claro TV\",\n",
    "\"Valor TvExpurgo\",    \"Valor Oi\", 'CARTEIRA (REGIÃO)','PRODUTO','DDD_FIXO_3','TEL_FIXO_3','DDD_CEL_3','TEL_CEL_3']]\n",
    "\n",
    "gev_4 = base_gevenue.loc[:,['CPF/CNPJ', 'SENHA', 'UF_END_FAT', \"Valor Claro Móvel\",\"Valor Claro Residencial\",    \"Valor Claro Empresarial\",    \"Valor Claro Fixo\",    \"Valor Claro TV\",\n",
    "\"Valor TvExpurgo\",    \"Valor Oi\", 'CARTEIRA (REGIÃO)','PRODUTO','DDD_FIXO_4','TEL_FIXO_4','DDD_CEL_4','TEL_CEL_4']]\n",
    "\n",
    "\n",
    "gev_1 = gev_1.rename(columns={'DDD_FIXO_1':'DDD_FIXO'})\n",
    "gev_2 = gev_2.rename(columns={'DDD_FIXO_2':'DDD_FIXO'})\n",
    "gev_3 = gev_3.rename(columns={'DDD_FIXO_3':'DDD_FIXO'})\n",
    "gev_4 = gev_4.rename(columns={'DDD_FIXO_4':'DDD_FIXO'})\n",
    "\n",
    "# RENOMEANDO PRA CONCATENAR\n",
    "gev_1 = gev_1.rename(columns={'TEL_FIXO_1':'FIXO'})\n",
    "gev_2 = gev_2.rename(columns={'TEL_FIXO_2':'FIXO'})\n",
    "gev_3 = gev_3.rename(columns={'TEL_FIXO_3':'FIXO'})\n",
    "gev_4 = gev_4.rename(columns={'TEL_FIXO_4':'FIXO'})\n",
    "\n",
    "\n",
    "\n",
    "gev_1 = gev_1.rename(columns={'DDD_CEL_1':'DDD_CEL'})\n",
    "gev_2 = gev_2.rename(columns={'DDD_CEL_2':'DDD_CEL'})\n",
    "gev_3 = gev_3.rename(columns={'DDD_CEL_3':'DDD_CEL'})\n",
    "gev_4 = gev_4.rename(columns={'DDD_CEL_4':'DDD_CEL'})\n",
    "\n",
    "# RENOMEANDO PRA CONCATENAR\n",
    "gev_1 = gev_1.rename(columns={'TEL_CEL_1':'CELULAR'})\n",
    "gev_2 = gev_2.rename(columns={'TEL_CEL_2':'CELULAR'})\n",
    "gev_3 = gev_3.rename(columns={'TEL_CEL_3':'CELULAR'})\n",
    "gev_4 = gev_4.rename(columns={'TEL_CEL_4':'CELULAR'})\n",
    "\n",
    "\n",
    "base_gevenue = pd.concat([gev_1,gev_2,gev_3,gev_4])\n",
    "\n",
    "base_gevenue['TELEFONE_FIXO'] = base_gevenue['DDD_FIXO'] + base_gevenue['FIXO']\n",
    "base_gevenue['TELEFONE_CELULAR'] = base_gevenue['DDD_CEL'] + base_gevenue['CELULAR']\n",
    "\n",
    "base_gevenue = base_gevenue.loc[:,['CPF/CNPJ',\t'SENHA',\t'UF_END_FAT',\t'Valor Claro Móvel',\t'Valor Claro Residencial',\t'Valor Claro Empresarial',\t'Valor Claro Fixo',\t'Valor Claro TV',\t'Valor TvExpurgo',\t'Valor Oi',\t'CARTEIRA (REGIÃO)'\t,'PRODUTO','TELEFONE_FIXO',\t'TELEFONE_CELULAR']]\n"
   ]
  },
  {
   "cell_type": "code",
   "execution_count": null,
   "metadata": {},
   "outputs": [],
   "source": [
    "## Removendo duplicado de todas as colunas\n",
    "base_gevenue = base_gevenue.drop_duplicates(['CPF/CNPJ','SENHA','UF_END_FAT','Valor Claro Móvel','Valor Claro Residencial','Valor Claro Empresarial','Valor Claro Fixo','Valor Claro TV','Valor TvExpurgo','Valor Oi',\t'CARTEIRA (REGIÃO)'\t,'PRODUTO','TELEFONE_FIXO',\t'TELEFONE_CELULAR'])\n",
    "\n",
    "base_gevenue"
   ]
  },
  {
   "cell_type": "code",
   "execution_count": null,
   "metadata": {},
   "outputs": [],
   "source": [
    "base_gevenue_fixo = base_gevenue.loc[:,['CPF/CNPJ',\t'SENHA',\t'UF_END_FAT',\t'Valor Claro Móvel',\t\n",
    "'Valor Claro Residencial',\t'Valor Claro Empresarial',\t'Valor Claro Fixo',\t'Valor Claro TV',\n",
    "\t'Valor TvExpurgo',\t'Valor Oi',\t'CARTEIRA (REGIÃO)'\t,'PRODUTO','TELEFONE_FIXO']]\n",
    "\n",
    "base_gevenue_celular = base_gevenue.loc[:,['CPF/CNPJ',\t'SENHA',\t'UF_END_FAT',\t'Valor Claro Móvel',\t\n",
    "'Valor Claro Residencial',\t'Valor Claro Empresarial',\t'Valor Claro Fixo',\t'Valor Claro TV',\n",
    "\t'Valor TvExpurgo',\t'Valor Oi',\t'CARTEIRA (REGIÃO)'\t,'PRODUTO','TELEFONE_CELULAR']]\n",
    "\n",
    "base_gevenue_fixo = base_gevenue_fixo.rename(columns={'TELEFONE_FIXO':'TELEFONE'})\n",
    "base_gevenue_celular = base_gevenue_celular.rename(columns={'TELEFONE_CELULAR':'TELEFONE'})\n",
    "\n",
    "base_gevenue = pd.concat([base_gevenue_fixo,base_gevenue_celular])\n",
    "\n",
    "# Considerando só o telefone nao nulo\n",
    "\n",
    "base_gevenue = base_gevenue.drop_duplicates(['CPF/CNPJ','SENHA','UF_END_FAT','Valor Claro Móvel','Valor Claro Residencial','Valor Claro Empresarial','Valor Claro Fixo','Valor Claro TV','Valor TvExpurgo','Valor Oi',\t'CARTEIRA (REGIÃO)'\t,'PRODUTO','TELEFONE'])\\\n",
    "    .query('TELEFONE.notnull()')"
   ]
  },
  {
   "cell_type": "code",
   "execution_count": null,
   "metadata": {},
   "outputs": [],
   "source": [
    "# Considerando só o telefone nao nulo\n",
    "\n",
    "base_gevenue = base_gevenue.drop_duplicates(['CPF/CNPJ','SENHA','UF_END_FAT','Valor Claro Móvel','Valor Claro Residencial','Valor Claro Empresarial','Valor Claro Fixo','Valor Claro TV','Valor TvExpurgo','Valor Oi',\t'CARTEIRA (REGIÃO)'\t,'PRODUTO','TELEFONE'])\\\n",
    "    .query('TELEFONE.notnull()')\n",
    "\n",
    "base_gevenue.to_csv(r\"R:\\TI\\TELEFONIA\\Mailings Prontos\\2024\\Março\\20\\Jorgean\\BASE DE COBRANCA TRATADA/Base_gevenue_tratada_2003.csv\",index=False,sep=';')"
   ]
  },
  {
   "cell_type": "code",
   "execution_count": null,
   "metadata": {},
   "outputs": [],
   "source": []
  },
  {
   "cell_type": "code",
   "execution_count": null,
   "metadata": {},
   "outputs": [],
   "source": []
  },
  {
   "cell_type": "code",
   "execution_count": null,
   "metadata": {},
   "outputs": [],
   "source": []
  },
  {
   "cell_type": "markdown",
   "metadata": {},
   "source": [
    "### Final da analise CLARO\n"
   ]
  },
  {
   "cell_type": "code",
   "execution_count": null,
   "metadata": {},
   "outputs": [],
   "source": [
    "import pandas as pd\n",
    "import glob\n",
    "pd.set_option(\"display.max_columns\", None)\n",
    "caminho = r\"R:\\TI\\TELEFONIA\\Mailings Prontos\\2024\\Março\\20\\Jorgean\\BASE DE COBRANCA TRATADA\\BASE COBRANCA CLARO TRATADA\"\n",
    "arquivos = glob.glob(caminho + \"/*.csv\")\n",
    "lista = []\n",
    "for arquivo in arquivos:\n",
    "    print(arquivo)\n",
    "    lista.append(arquivo)\n",
    "    \n",
    "    dfList = []\n",
    "    \n",
    "    for item in lista:   \n",
    "        chunks = pd.read_csv(item, encoding='iso-8859-1', chunksize=1000000, sep=\";\", dtype='str',\n",
    "                             usecols=['CPF_CNPJ','SENHA','TELEFONE_CELULAR','TELEFONE_COMERCIAL','TEL_01','TEL_02','TEL_03','TEL_04','UF','VALOR_COBRANCA','MUNICIPIO','PRODUTO'])\n",
    "        for df in chunks:\n",
    "            dfList.append(df)\n",
    "\n",
    "# Criando DataFrame com concat e a lista criada a cima\n",
    "base_cobranca_claro = pd.concat(dfList, sort=False, ignore_index=False)\n",
    "\n",
    "tels_1 = base_cobranca_claro[['CPF_CNPJ'\t,'SENHA'\t,'TELEFONE_CELULAR'\t,'UF'\t,'VALOR_COBRANCA','MUNICIPIO','PRODUTO']]\n",
    "tels_2 = base_cobranca_claro[['CPF_CNPJ'\t,'SENHA'\t,'TELEFONE_COMERCIAL'\t,'UF'\t,'VALOR_COBRANCA','MUNICIPIO','PRODUTO']]\n",
    "tels_3 = base_cobranca_claro[['CPF_CNPJ'\t,'SENHA'\t,'TEL_01'\t,'UF'\t,'VALOR_COBRANCA','MUNICIPIO','PRODUTO']]\n",
    "tels_4 = base_cobranca_claro[['CPF_CNPJ'\t,'SENHA'\t,'TEL_02'\t,'UF'\t,'VALOR_COBRANCA','MUNICIPIO','PRODUTO']]\n",
    "tels_5 = base_cobranca_claro[['CPF_CNPJ'\t,'SENHA'\t,'TEL_03'\t,'UF'\t,'VALOR_COBRANCA','MUNICIPIO','PRODUTO']]\n",
    "tels_6 = base_cobranca_claro[['CPF_CNPJ'\t,'SENHA'\t,'TEL_04'\t,'UF'\t,'VALOR_COBRANCA','MUNICIPIO','PRODUTO']]\n",
    "\n",
    "\n",
    "tels_1 = tels_1.rename({'TELEFONE_CELULAR': 'TELEFONE'}, axis=1)\n",
    "tels_2 = tels_2.rename({'TELEFONE_COMERCIAL': 'TELEFONE'}, axis=1)\n",
    "tels_3 = tels_3.rename({'TEL_01': 'TELEFONE'}, axis=1)\n",
    "tels_4 = tels_4.rename({'TEL_02': 'TELEFONE'}, axis=1)\n",
    "tels_5 = tels_5.rename({'TEL_03': 'TELEFONE'}, axis=1)\n",
    "tels_6 = tels_6.rename({'TEL_04': 'TELEFONE'}, axis=1)\n",
    "\n",
    "\n",
    "base_cobranca_claro = pd.concat([tels_1,tels_2,tels_3,tels_4,tels_5,tels_6])\n",
    "base_cobranca_claro = base_cobranca_claro.query(\"TELEFONE.notnull()\")\n",
    "base_cobranca_claro.drop_duplicates(['TELEFONE'])\n",
    "base_cobranca_claro = base_cobranca_claro.reset_index(drop=True)\n",
    "\n",
    "base_cobranca_claro.loc[(base_cobranca_claro['MUNICIPIO'] != 'SAO PAULO') , 'MUNICIPIO'] = 'CIDADE'\n",
    "base_cobranca_claro.loc[(base_cobranca_claro['MUNICIPIO'] == 'SAO PAULO') , 'MUNICIPIO'] = 'ESTADO'\n",
    "\n",
    "base_cobranca_claro = base_cobranca_claro.query(\"PRODUTO != 'Claro TV' and PRODUTO != 'Claro Fixo' \")\n",
    "\n",
    "base_cobranca_claro\n",
    "\n",
    "\n"
   ]
  },
  {
   "cell_type": "code",
   "execution_count": null,
   "metadata": {},
   "outputs": [],
   "source": [
    "#$######## carregando a base de blacklist\n",
    "import pandas as pd\n",
    "import glob\n",
    "pd.set_option(\"display.max_columns\", None)\n",
    "caminho = r\"R:\\TI\\TELEFONIA\\Mailings Prontos\\2024\\Março\\20\\BACKLISTS\\BLACKLISTS_MARCO_24\"\n",
    "arquivos = glob.glob(caminho + \"/*.csv\")\n",
    "lista = []\n",
    "for arquivo in arquivos:\n",
    "    print(arquivo)\n",
    "    lista.append(arquivo)\n",
    "    \n",
    "    dfList = []\n",
    "    \n",
    "    for item in lista:   \n",
    "        chunks = pd.read_csv(item, encoding='iso-8859-1', chunksize=1000000, sep=\";\", dtype='str')\n",
    "        for df in chunks:\n",
    "            dfList.append(df)\n",
    "\n",
    "# Criando DataFrame com concat e a lista criada a cima\n",
    "black_list_claro = pd.concat(dfList, sort=False, ignore_index=False)\n",
    "\n",
    "black_list_claro = black_list_claro.drop_duplicates()\n",
    "black_list_claro = black_list_claro.reset_index(drop=True)\n",
    "\n",
    "black_list_claro"
   ]
  },
  {
   "cell_type": "code",
   "execution_count": null,
   "metadata": {},
   "outputs": [],
   "source": [
    "base_cobranca_claro"
   ]
  },
  {
   "cell_type": "code",
   "execution_count": null,
   "metadata": {},
   "outputs": [],
   "source": [
    "base_claro_localizada = pd.merge(base_cobranca_claro, black_list_claro, right_on=['tel'], left_on=['TELEFONE'], how=\"inner\")\n",
    "\n",
    "# base_claro_localizada['VALOR_COBRANCA'] = base_claro_localizada['VALOR_COBRANCA'].astype(str).str.replace(',', '.')\n",
    "# base_claro_localizada['VALOR_COBRANCA'] = base_claro_localizada['VALOR_COBRANCA'].astype(float)\n",
    "\n",
    "base_claro_localizada = base_claro_localizada.drop_duplicates(['CPF_CNPJ','TELEFONE','MUNICIPIO','VALOR_COBRANCA'])\n",
    "base_claro_localizada"
   ]
  },
  {
   "cell_type": "code",
   "execution_count": null,
   "metadata": {},
   "outputs": [],
   "source": [
    "base_claro_localizada.drop_duplicates(['tel'])"
   ]
  },
  {
   "cell_type": "code",
   "execution_count": null,
   "metadata": {},
   "outputs": [],
   "source": [
    "base_claro_localizada = base_claro_localizada.drop_duplicates(['CPF_CNPJ'])"
   ]
  },
  {
   "cell_type": "code",
   "execution_count": null,
   "metadata": {},
   "outputs": [],
   "source": [
    "########### BAIXANDO A BASE LOCALIZADA E A GERAL PARA FAZER OS CALCULOS NO EXCEL\n",
    "base_claro_localizada.to_csv(r\"R:\\TI\\TELEFONIA\\Mailings Prontos\\2024\\Março\\25\\Jorgean/base_claro_localizada.csv\",index=False,sep=';')\n",
    "\n",
    "base_cobranca_claro.to_csv(r\"R:\\TI\\TELEFONIA\\Mailings Prontos\\2024\\Março\\25\\Jorgean/base_cobranca_claro.csv\",index=False,sep=';')"
   ]
  },
  {
   "cell_type": "code",
   "execution_count": null,
   "metadata": {},
   "outputs": [],
   "source": [
    "base_cobranca_claro['VALOR_COBRANCA'] = base_cobranca_claro['VALOR_COBRANCA'].astype(str).str.replace(',', '.')\n",
    "base_cobranca_claro['VALOR_COBRANCA'] = base_cobranca_claro['VALOR_COBRANCA'].astype(float)\n",
    "pd.set_option('display.float_format', lambda x: '%.2f' % x)\n",
    "\n",
    "base_cobranca_claro.groupby(['MUNICIPIO']).agg({'CPF_CNPJ':'count',\n",
    "                                                  'VALOR_COBRANCA':'sum'}).reset_index()\n",
    "\n",
    "\n"
   ]
  },
  {
   "cell_type": "code",
   "execution_count": null,
   "metadata": {},
   "outputs": [],
   "source": [
    "base_claro_localizada.sort_values(['VALOR_COBRANCA'],ascending=False)"
   ]
  },
  {
   "cell_type": "code",
   "execution_count": null,
   "metadata": {},
   "outputs": [],
   "source": [
    "base_claro_localizada.groupby(['MUNICIPIO']).agg({'tel':'count',\n",
    "                                                  'VALOR_COBRANCA':'sum'}).reset_index"
   ]
  },
  {
   "cell_type": "code",
   "execution_count": null,
   "metadata": {},
   "outputs": [],
   "source": [
    "base_cobranca_claro_cruzada = pd.merge(base_cobranca_claro, black_list_claro, right_on=['TELEFONE'], left_on=['TELEFONE'], how=\"left\")\n",
    "# base_cobranca_claro_cruzada.to_csv(r\"R:\\TI\\TELEFONIA\\Mailings Prontos\\2023\\Outubro\\5\\jorgean\\Base de cobranca\\BASE_COBRANCA_20231001_ATN_162/base_claro_cruzada_final.csv\",index=False,sep=';')\n",
    "# base_cobranca_claro.to_csv(r\"R:\\TI\\TELEFONIA\\Mailings Prontos\\2023\\Outubro\\5\\jorgean\\Base de cobranca\\BASE_COBRANCA_20231001_ATN_162/base_claro_final.csv\",index=False,sep=';')"
   ]
  },
  {
   "cell_type": "code",
   "execution_count": null,
   "metadata": {},
   "outputs": [],
   "source": [
    "base_cobranca_claro_cruzada.query(\"TABELA=='Blocklist' and CIDADE_ESTADO == 'CIDADE'\").drop_duplicates(['CPF_CNPJ','TELEFONE'])"
   ]
  },
  {
   "cell_type": "markdown",
   "metadata": {},
   "source": [
    "## FIM ANALISE GEVENUE\n"
   ]
  },
  {
   "cell_type": "code",
   "execution_count": null,
   "metadata": {},
   "outputs": [],
   "source": [
    "import pandas as pd \n",
    "import glob\n",
    "pd.set_option(\"display.max_columns\", None)\n",
    "pd.set_option('display.float_format', lambda x: '%.2f' % x)\n",
    "\n",
    "#$######## carregando a base de blacklist\n",
    "import pandas as pd\n",
    "import glob\n",
    "pd.set_option(\"display.max_columns\", None)\n",
    "caminho = r\"R:\\TI\\TELEFONIA\\Mailings Prontos\\2024\\Março\\20\\BACKLISTS\\BLACKLISTS_MARCO_24\"\n",
    "arquivos = glob.glob(caminho + \"/*.csv\")\n",
    "lista = []\n",
    "for arquivo in arquivos:\n",
    "    print(arquivo)\n",
    "    lista.append(arquivo)\n",
    "    \n",
    "    dfList = []\n",
    "    \n",
    "    for item in lista:   \n",
    "        chunks = pd.read_csv(item, encoding='iso-8859-1', chunksize=1000000, sep=\";\", dtype='str')\n",
    "        for df in chunks:\n",
    "            dfList.append(df)\n",
    "\n",
    "# Criando DataFrame com concat e a lista criada a cima\n",
    "black_list_claro = pd.concat(dfList, sort=False, ignore_index=False)\n",
    "\n",
    "black_list_claro = black_list_claro.drop_duplicates()\n",
    "black_list_claro = black_list_claro.reset_index(drop=True)\n",
    "\n",
    "black_list_claro"
   ]
  },
  {
   "cell_type": "code",
   "execution_count": null,
   "metadata": {},
   "outputs": [],
   "source": []
  },
  {
   "cell_type": "code",
   "execution_count": null,
   "metadata": {},
   "outputs": [],
   "source": [
    "base_cobranca_gevenue = pd.read_csv(r\"R:\\TI\\TELEFONIA\\Mailings Prontos\\2024\\Março\\20\\Jorgean\\BASE DE COBRANCA TRATADA\\BASE COBRANCA GEVENUE TRATADA/Base_gevenue_tratada_2003.csv\",sep=';',dtype='str')\n",
    "base_cobranca_gevenue.loc[(base_cobranca_gevenue['CARTEIRA (REGIÃO)'] != 'SAO PAULO') , 'MUNICIPIO'] = 'CIDADE'\n",
    "base_cobranca_gevenue.loc[(base_cobranca_gevenue['CARTEIRA (REGIÃO)'] == 'SAO PAULO') , 'MUNICIPIO'] = 'ESTADO'\n",
    "base_cobranca_gevenue\n"
   ]
  },
  {
   "cell_type": "code",
   "execution_count": null,
   "metadata": {},
   "outputs": [],
   "source": [
    "base_cobranca_gevenue = base_cobranca_gevenue.drop_duplicates(['CPF/CNPJ','SENHA','MUNICIPIO','TELEFONE'])"
   ]
  },
  {
   "cell_type": "code",
   "execution_count": null,
   "metadata": {},
   "outputs": [],
   "source": [
    "base_gevenue_localizada = pd.merge(base_cobranca_gevenue, black_list_claro, right_on=['tel'], left_on=['TELEFONE'], how=\"inner\")"
   ]
  },
  {
   "cell_type": "code",
   "execution_count": null,
   "metadata": {},
   "outputs": [],
   "source": [
    "################## BAIXANDO A BASE PARA FAZER O CALCULO NO EXCEL\n",
    "\n",
    "base_gevenue_localizada.to_csv(r\"R:\\TI\\TELEFONIA\\Mailings Prontos\\2024\\Março\\25\\Jorgean/base_gevenue_localizada.csv\",index=False,sep=';')\n",
    "\n",
    "base_cobranca_gevenue.to_csv(r\"R:\\TI\\TELEFONIA\\Mailings Prontos\\2024\\Março\\25\\Jorgean/base_cobranca_gevenue.csv\",index=False,sep=';')"
   ]
  },
  {
   "cell_type": "code",
   "execution_count": null,
   "metadata": {},
   "outputs": [],
   "source": [
    "# Lista das colunas que você deseja somar\n",
    "colunas_a_somar = ['Valor Claro Móvel', 'Valor Claro Residencial', 'Valor Claro Empresarial',\n",
    "                   'Valor Claro Fixo', 'Valor Claro TV', 'Valor TvExpurgo', 'Valor Oi']\n",
    "\n",
    "\n",
    "# Converter as colunas em strings e, em seguida, remover os pontos e substituir vírgulas por pontos\n",
    "for coluna in colunas_a_somar:\n",
    "    base_gevenue_localizada[coluna] = base_gevenue_localizada[coluna].astype(str).str.replace('.', '').str.replace(',', '.')\n",
    "\n",
    "# Converter as colunas para tipo float\n",
    "for coluna in colunas_a_somar:\n",
    "    base_gevenue_localizada[coluna] = base_gevenue_localizada[coluna].astype(float)\n",
    "\n",
    "base_gevenue_localizada = base_gevenue_localizada.drop_duplicates(['tel','CPF/CNPJ','MUNICIPIO','Valor Claro Móvel',\t'Valor Claro Residencial',\t'Valor Claro Empresarial'])\n",
    "\n",
    "base_gevenue_localizada\n",
    "\n",
    "# # Agrupar por 'CIDADE' e 'ESTADO' e somar as colunas\n",
    "# soma_por_cidade_estado = base_cobranca_gevenue.groupby(['MUNICIPIO'])[colunas_a_somar].sum()"
   ]
  },
  {
   "cell_type": "code",
   "execution_count": null,
   "metadata": {},
   "outputs": [],
   "source": [
    "base_gevenue_localizada.groupby(['MUNICIPIO'])[colunas_a_somar].sum()"
   ]
  },
  {
   "cell_type": "code",
   "execution_count": null,
   "metadata": {},
   "outputs": [],
   "source": [
    "base_gevenue_localizada.groupby(['MUNICIPIO']).agg({'tel':'count'}).reset_index()"
   ]
  },
  {
   "cell_type": "code",
   "execution_count": null,
   "metadata": {},
   "outputs": [],
   "source": [
    "# Lista das colunas que você deseja somar\n",
    "colunas_a_somar = ['Valor Claro Móvel', 'Valor Claro Residencial', 'Valor Claro Empresarial',\n",
    "                   'Valor Claro Fixo', 'Valor Claro TV', 'Valor TvExpurgo', 'Valor Oi']\n",
    "\n",
    "\n",
    "# Converter as colunas em strings e, em seguida, remover os pontos e substituir vírgulas por pontos\n",
    "for coluna in colunas_a_somar:\n",
    "    base_cobranca_gevenue[coluna] = base_cobranca_gevenue[coluna].astype(str).str.replace('.', '').str.replace(',', '.')\n",
    "\n",
    "# Converter as colunas para tipo float\n",
    "for coluna in colunas_a_somar:\n",
    "    base_cobranca_gevenue[coluna] = base_cobranca_gevenue[coluna].astype(float)\n",
    "\n",
    "base_cobranca_gevenue = base_cobranca_gevenue.drop_duplicates(['CPF/CNPJ','MUNICIPIO','Valor Claro Móvel',\t'Valor Claro Residencial',\t'Valor Claro Empresarial'])\n",
    "\n",
    "base_cobranca_gevenue\n",
    "\n",
    "# # Agrupar por 'CIDADE' e 'ESTADO' e somar as colunas\n",
    "# soma_por_cidade_estado = base_cobranca_gevenue.groupby(['MUNICIPIO'])[colunas_a_somar].sum()"
   ]
  },
  {
   "cell_type": "code",
   "execution_count": null,
   "metadata": {},
   "outputs": [],
   "source": [
    "base_cobranca_gevenue.groupby(['MUNICIPIO'])[colunas_a_somar].sum()"
   ]
  },
  {
   "cell_type": "code",
   "execution_count": null,
   "metadata": {},
   "outputs": [],
   "source": [
    "base_cobranca_gevenue.groupby(['MUNICIPIO']).agg({'CPF/CNPJ':'count'}).reset_index()"
   ]
  },
  {
   "cell_type": "code",
   "execution_count": null,
   "metadata": {},
   "outputs": [],
   "source": [
    "# # removendo duplicado por cpf e senha para saber quantidade de clt da base de cobrança TOTAL DE SAO PAULO\n",
    "# base_total_de_cliente_sp = base_cobranca_gevenue.drop_duplicates(['CPF/CNPJ','SENHA'])\n",
    "\n",
    "# # removendo duplicado por cpf e senha para saber quantidade de clt da base de cobrança EXCETO AS CIDADES\n",
    "# base_total_de_cliente_estado  = base_cobranca_gevenue.drop_duplicates(['CPF/CNPJ','SENHA']).query(\"MUNICIPIO == 'ESTADO'\")"
   ]
  },
  {
   "cell_type": "code",
   "execution_count": null,
   "metadata": {},
   "outputs": [],
   "source": [
    "base_total_de_cliente_sp.to_csv(r\"R:\\TI\\TELEFONIA\\Mailings Prontos\\2023\\Outubro\\5\\jorgean\\Base de cobranca\\base cobranca gevenue\\BASE_BLACK_ATN/base_total_de_cliente_sp.csv\",index=False,sep=';')\n",
    "base_total_de_cliente_estado.to_csv(r\"R:\\TI\\TELEFONIA\\Mailings Prontos\\2023\\Outubro\\5\\jorgean\\Base de cobranca\\base cobranca gevenue\\BASE_BLACK_ATN/base_total_de_cliente_estado.csv\",index=False,sep=';')"
   ]
  },
  {
   "cell_type": "code",
   "execution_count": null,
   "metadata": {},
   "outputs": [],
   "source": []
  },
  {
   "cell_type": "code",
   "execution_count": null,
   "metadata": {},
   "outputs": [],
   "source": []
  },
  {
   "cell_type": "code",
   "execution_count": null,
   "metadata": {},
   "outputs": [],
   "source": []
  },
  {
   "cell_type": "code",
   "execution_count": null,
   "metadata": {},
   "outputs": [],
   "source": []
  },
  {
   "cell_type": "code",
   "execution_count": null,
   "metadata": {},
   "outputs": [],
   "source": [
    "import dask.dataframe as dd\n",
    "import pandas as pd\n",
    "\n",
    "# Caminho para o arquivo CSV\n",
    "file_path = r\"R:\\TI\\TELEFONIA\\BASES CLARO E NET ATIVA\\BASE DE COBRANÇA/BASE_COBRANCA_20240331_ATN_188.txt\"\n",
    "\n",
    "# Leitura do arquivo CSV com Dask\n",
    "dask_df = dd.read_csv(file_path, sep=\"\\t\", dtype=str, encoding='iso-8859-1', engine='python', error_bad_lines=False, warn_bad_lines=True, skiprows=1)\n",
    "\n",
    "\n",
    "# Converter para DataFrame Pandas\n",
    "base_claro = dask_df.compute()\n",
    "\n",
    "# Definir as colunas desejadas\n",
    "colunas = ['CPF_CNPJ', 'SENHA', 'TELEFONE_CELULAR', 'TELEFONE_COMERCIAL', 'UF', 'VALOR_COBRANCA', 'TEL_01', 'TEL_02', 'TEL_03', 'TEL_04', 'TEL_05', 'TEL_06', 'TEL_07', 'TEL_08', 'TEL_09', 'TEL_10', 'CEL_01', 'CEL_02', 'CEL_03', 'CEL_04', 'CEL_05', 'CEL_06', 'CEL_07', 'CEL_08', 'CEL_09', 'CEL_10', 'MUNICIPIO','PRODUTO']\n",
    "base_claro = base_claro[colunas]\n",
    "\n",
    "# Resetar índices\n",
    "base_claro = base_claro.reset_index(drop=True)\n",
    "\n",
    "\n",
    "# base_claro = base_claro.query(\"UF == 'SP'\")\n",
    "\n",
    "\n",
    "base_claro.to_csv(r\"C:\\Users\\jorgean.bomfim\\Desktop\\analise_claro_0504/base_cobranca_claro_tratada_0504.csv\",sep=';',index=False)\n",
    "\n",
    "# Agora você pode usar o DataFrame 'base_claro' para análises e manipulações adicionais\n"
   ]
  },
  {
   "cell_type": "code",
   "execution_count": null,
   "metadata": {},
   "outputs": [],
   "source": [
    "import pandas as pd\n",
    "\n",
    "base_claro = pd.read_csv(r\"C:\\Users\\jorgean.bomfim\\Desktop\\analise_claro_0504/base_cobranca_claro_tratada_0504.csv\",sep=';',dtype='str')\n",
    "\n",
    "base_claro = base_claro.query(\"PRODUTO == 'Claro MÃ³vel'\").drop_duplicates(['CPF_CNPJ','SENHA','VALOR_COBRANCA'])\n",
    "base_claro = base_claro.reset_index(drop=True)\n",
    "\n",
    "base_claro = base_claro.loc[:,['CPF_CNPJ','SENHA','VALOR_COBRANCA','UF','PRODUTO']]\n"
   ]
  },
  {
   "cell_type": "code",
   "execution_count": null,
   "metadata": {},
   "outputs": [],
   "source": [
    "## Separando para somar o saldo certo no excel\n",
    "df_1 = base_claro.iloc[0:1000000]\n",
    "df_2 = base_claro.iloc[1000001:2000000]\n",
    "df_3 = base_claro.iloc[2000001:3000000]\n",
    "df_4 = base_claro.iloc[3000001:4000000]\n",
    "\n",
    "df_1.to_csv(r\"C:\\Users\\jorgean.bomfim\\Desktop\\analise_claro_0504/df_base_cob_claro_1.csv\",index=False,sep=';')\n",
    "df_2.to_csv(r\"C:\\Users\\jorgean.bomfim\\Desktop\\analise_claro_0504/df_base_cob_claro_2.csv\",index=False,sep=';')\n",
    "df_3.to_csv(r\"C:\\Users\\jorgean.bomfim\\Desktop\\analise_claro_0504/df_base_cob_claro_3.csv\",index=False,sep=';')\n",
    "df_4.to_csv(r\"C:\\Users\\jorgean.bomfim\\Desktop\\analise_claro_0504/df_base_cob_claro_4.csv\",index=False,sep=';')"
   ]
  },
  {
   "cell_type": "code",
   "execution_count": null,
   "metadata": {},
   "outputs": [],
   "source": [
    "## Contagem de estoque  claro\n",
    "base_claro.drop_duplicates(['CPF_CNPJ','SENHA']).groupby(['PRODUTO']).agg({'CPF_CNPJ':'count'}).reset_index()"
   ]
  },
  {
   "cell_type": "code",
   "execution_count": null,
   "metadata": {},
   "outputs": [],
   "source": []
  },
  {
   "cell_type": "code",
   "execution_count": null,
   "metadata": {},
   "outputs": [],
   "source": [
    "import pandas as pd\n",
    "import glob\n",
    "pd.set_option(\"display.max_columns\", None)\n",
    "\n",
    "caminho = r\"R:\\TI\\TELEFONIA\\BASES CLARO E NET ATIVA\\BASE DE COBRANÇA\\Base de Cobrança GEV\\BASE_COBRANCA_20240331_T_ATN_4256.txt\"\n",
    "arquivos = glob.glob(caminho + \"/*.txt\")\n",
    "\n",
    "lista_de_larguras =[15,12,15,40,8,15,10,50,16,16,16,16,30,10,12,12,12,12,12,12,12,10,10,50,50,50,50,10,300,40,2,9,10,300,40,2,9,2,10,2,10,2,10,2,10,2,10,2,10,2,10,2,10]\n",
    "\n",
    "header_novo_gevenue = [\n",
    "    \"CÓDIGO DA CONTA\",\n",
    "    \"SENHA\",    \"PRODUTO\",    \"NOME\",    \"TIPO DE PESSOA\",    \"CPF/CNPJ\",\n",
    "    \"DATA_NASCIMENTO\",    \"FILA_COBRANCA\",    \"ULT_DATA_SMS\",    \"ULT_DATA_CARTA\",\n",
    "    \"ULT_DATA_URA\",    \"ULT_DATA_EMAIL\",    \"CARTEIRA (REGIÃO)\",    \"VENCIMENTO\",    \"Valor Claro Móvel\",\n",
    "    \"Valor Claro Residencial\",    \"Valor Claro Empresarial\",    \"Valor Claro Fixo\",    \"Valor Claro TV\",\n",
    "    \"Valor TvExpurgo\",    \"Valor Oi\",    \"DATA_NEGATIVACAO\",    \"DATA_CADASTRO\",    \"STATUS_CONTRATO_NET\",\n",
    "    \"EMAIL_01\",    \"EMAIL_02\",    \"EMAIL_03\",    \"TIPO_DE_ENDERECO_1\",\n",
    "    \"ORIGEM_ENDERECO_1\",    \"CIDADE_END_INS\",    \"ESTADO_END_INS\",    \"CEP_END_INS\",    \"TIPO_DE_ENDERECO_2\",\n",
    "    \"ORIGEM_ENDERECO_2\",    \"CIDADE_END_FAT\",    \"UF_END_FAT\",    \"CEP_END_FAT\",    \"DDD_FIXO_1\",\n",
    "    \"TEL_FIXO_1\",    \"DDD_FIXO_2\",    \"TEL_FIXO_2\",    \"DDD_FIXO_3\",    \"TEL_FIXO_3\",\n",
    "    \"DDD_FIXO_4\",    \"TEL_FIXO_4\",    \"DDD_CEL_1\",    \"TEL_CEL_1\",    \"DDD_CEL_2\",\n",
    "    \"TEL_CEL_2\",    \"DDD_CEL_3\",    \"TEL_CEL_3\",    \"DDD_CEL_4\",    \"TEL_CEL_4\"]\n",
    "\n",
    "\n",
    "\n",
    "base_gevenue = pd.read_fwf(caminho, encoding='utf-8',sep='\\t',widths = lista_de_larguras ,names = header_novo_gevenue,dtype='str')\n",
    "\n",
    "base_gevenue.head()\n",
    "\n",
    "base_gevenue = base_gevenue.loc[:,['CPF/CNPJ', 'SENHA', 'UF_END_FAT', \"Valor Claro Móvel\",\"Valor Claro Residencial\",    \"Valor Claro Empresarial\",    \"Valor Claro Fixo\",    \"Valor Claro TV\",\n",
    "    \"Valor TvExpurgo\",    \"Valor Oi\", 'CARTEIRA (REGIÃO)','PRODUTO','DDD_FIXO_1','TEL_FIXO_1','DDD_FIXO_2','TEL_FIXO_2','DDD_FIXO_3','TEL_FIXO_3','DDD_FIXO_4','TEL_FIXO_4','DDD_CEL_1','TEL_CEL_1',\n",
    "               \t'DDD_CEL_2','TEL_CEL_2','DDD_CEL_3','TEL_CEL_3','DDD_CEL_4','TEL_CEL_4']]\n",
    "\n",
    "base_gevenue = base_gevenue.drop_duplicates(['CPF/CNPJ','SENHA','Valor Claro Móvel','Valor Claro Residencial','Valor Claro Empresarial','Valor Claro Fixo','Valor Claro TV','Valor TvExpurgo','Valor Oi','CARTEIRA (REGIÃO)'])\n",
    "\n",
    "\n",
    "\n",
    "base_gevenue.to_csv(r\"R:\\TI\\TELEFONIA\\Mailings Prontos\\2024\\Abril\\05\\Jorgean\\BASE_COBRANCA_TRATADA/base_cobranca_gevenue_net_tratada_0504.csv\",sep=';',index=False)\n",
    "# base_gevenue = base_gevenue.query(\"PRODUTO != 'ClaroMovel'\")"
   ]
  },
  {
   "cell_type": "code",
   "execution_count": null,
   "metadata": {},
   "outputs": [],
   "source": [
    "# # import pandas as pd\n",
    "# # base_cobranca_gevenue = pd.read_csv(r\"R:\\TI\\TELEFONIA\\Mailings Prontos\\2024\\Abril\\05\\Jorgean\\BASE_COBRANCA_TRATADA/base_cobranca_gevenue_net_tratada_0504.csv\",sep=';',dtype='str')\n",
    "# base_cobranca_gevenue = base_cobranca_gevenue.drop_duplicates(['CPF/CNPJ','SENHA','Valor Claro Móvel','Valor Claro Residencial','Valor Claro Empresarial','Valor Claro Fixo','Valor Claro TV','Valor TvExpurgo','Valor Oi','CARTEIRA (REGIÃO)'])\n",
    "\n",
    "# base_cobranca_gevenue = base_cobranca_gevenue.loc[:,['CPF/CNPJ', 'SENHA', 'UF_END_FAT', 'Valor Claro Móvel',\n",
    "#        'Valor Claro Residencial', 'Valor Claro Empresarial',\n",
    "#        'Valor Claro Fixo', 'Valor Claro TV', 'Valor TvExpurgo', 'Valor Oi',\n",
    "#        'CARTEIRA (REGIÃO)', 'PRODUTO']]\n",
    "\n",
    "\n",
    "base_cobranca_gevenue"
   ]
  },
  {
   "cell_type": "code",
   "execution_count": null,
   "metadata": {},
   "outputs": [],
   "source": [
    "base_cobranca_gevenue = base_cobranca_gevenue.reset_index(drop=True)\n",
    "base_cobranca_gevenue"
   ]
  },
  {
   "cell_type": "code",
   "execution_count": null,
   "metadata": {},
   "outputs": [],
   "source": [
    "## Separando para somar o saldo certo no excel\n",
    "df_1 = base_cobranca_gevenue.iloc[0:1000000]\n",
    "df_2 = base_cobranca_gevenue.iloc[1000001:2000000]\n",
    "# df_3 = base_cobranca_gevenue.iloc[2000001:3000000]\n",
    "# df_4 = base_cobranca_gevenue.iloc[3000001:4000000]\n",
    "\n",
    "df_1.to_csv(r\"C:\\Users\\jorgean.bomfim\\Desktop\\analise_claro_0504/df_base_cob_gevenue_net_1.csv\",index=False,sep=';')\n",
    "df_2.to_csv(r\"C:\\Users\\jorgean.bomfim\\Desktop\\analise_claro_0504/df_base_cob_gevenue_net_2.csv\",index=False,sep=';')\n"
   ]
  },
  {
   "cell_type": "code",
   "execution_count": null,
   "metadata": {},
   "outputs": [],
   "source": [
    "## Contagem de estoque  GEVENUE\n",
    "base_cobranca_gevenue.drop_duplicates(['CPF/CNPJ','SENHA']).groupby(['PRODUTO']).agg({'CPF/CNPJ':'count'}).reset_index()"
   ]
  }
 ],
 "metadata": {
  "kernelspec": {
   "display_name": "Python 3",
   "language": "python",
   "name": "python3"
  },
  "language_info": {
   "codemirror_mode": {
    "name": "ipython",
    "version": 3
   },
   "file_extension": ".py",
   "mimetype": "text/x-python",
   "name": "python",
   "nbconvert_exporter": "python",
   "pygments_lexer": "ipython3",
   "version": "3.10.8"
  }
 },
 "nbformat": 4,
 "nbformat_minor": 2
}
