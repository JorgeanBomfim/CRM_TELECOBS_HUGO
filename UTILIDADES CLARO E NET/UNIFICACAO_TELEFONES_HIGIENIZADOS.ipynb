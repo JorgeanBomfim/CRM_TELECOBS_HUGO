{
 "cells": [
  {
   "cell_type": "markdown",
   "metadata": {},
   "source": [
    "##### Código temporário, migrando os telefones higienizados para parquet"
   ]
  },
  {
   "cell_type": "code",
   "execution_count": null,
   "metadata": {},
   "outputs": [],
   "source": [
    "import pandas as pd\n",
    "import numpy as np\n",
    "import glob\n",
    "import warnings\n",
    "warnings.filterwarnings('ignore')\n",
    "\n",
    "#################################################### CARERGANDO A BASE DE TELEFONES HIGIENIZADOS\n",
    "\n",
    "caminho = r\"R:\\TI\\TELEFONIA\\BASES_HIGIENIZADAS_CLARO_E_NET\\TELEFONES CLARO E NET\"\n",
    "arquivos = glob.glob(caminho + \"/*.csv\")\n",
    "lista = []\n",
    "for arquivo in arquivos:\n",
    "    print(arquivo)\n",
    "    lista.append(arquivo)\n",
    "    \n",
    "    dfList = []\n",
    "    \n",
    "    for item in lista:   \n",
    "        chunks = pd.read_csv(item, encoding='iso-8859-1', chunksize=1000000, sep=\";\", dtype='str')\n",
    "        for df in chunks:\n",
    "            dfList.append(df)\n",
    "\n",
    "# Criando DataFrame com concat e a lista criada a cima\n",
    "telefones_higienizados = pd.concat(dfList, sort=False, ignore_index=False)\n"
   ]
  },
  {
   "cell_type": "code",
   "execution_count": null,
   "metadata": {},
   "outputs": [],
   "source": [
    "# Usando regex para remover todos os caracteres não numéricos\n",
    "telefones_higienizados['TELEFONE'] = telefones_higienizados['TELEFONE'].str.replace(r'\\D', '', regex=True)\n",
    "\n",
    "# Removendo as linhas onde TELEFONE_HIGIENIZADO está vazio após a higienização\n",
    "telefones_higienizados = telefones_higienizados[telefones_higienizados['TELEFONE'] != '']\n",
    "\n",
    "telefones_higienizados = telefones_higienizados.drop_duplicates()\n",
    "telefones_higienizados"
   ]
  },
  {
   "cell_type": "code",
   "execution_count": null,
   "metadata": {},
   "outputs": [],
   "source": [
    "### SALVANDO OS TELEFONES HIGIENIZADOS EM PARQUET\n",
    "telefones_higienizados.to_parquet(r'R:\\TI\\TELEFONIA\\BASES_HIGIENIZADAS_CLARO_E_NET\\TELEFONES CLARO E NET/TELEFONES_HIGI_CLARO_NET_GEVENUE_FULL_0108.parquet', engine='pyarrow', compression='gzip')"
   ]
  }
 ],
 "metadata": {
  "kernelspec": {
   "display_name": "Python 3",
   "language": "python",
   "name": "python3"
  },
  "language_info": {
   "codemirror_mode": {
    "name": "ipython",
    "version": 3
   },
   "file_extension": ".py",
   "mimetype": "text/x-python",
   "name": "python",
   "nbconvert_exporter": "python",
   "pygments_lexer": "ipython3",
   "version": "3.10.8"
  }
 },
 "nbformat": 4,
 "nbformat_minor": 2
}
