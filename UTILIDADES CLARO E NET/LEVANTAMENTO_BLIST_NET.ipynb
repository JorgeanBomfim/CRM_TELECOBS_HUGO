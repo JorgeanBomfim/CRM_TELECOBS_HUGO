{
 "cells": [
  {
   "cell_type": "code",
   "execution_count": null,
   "metadata": {},
   "outputs": [],
   "source": [
    "import pandas as pd\n",
    "# Ajuste das configurações de exibição\n",
    "pd.set_option('display.float_format', lambda x: '%.2f' % x)\n",
    "########################################## LENDO A BASE OPERACIONAL PRONTA PARA TRABALHAR\n",
    "caminho = r\"R:\\TI\\TELEFONIA\\BASES CLARO E NET ATIVA\\BASES SEMANA PADRAO\\BASE_OPERACIONAL\"\n",
    "base_operacional_hugo = pd.read_parquet(caminho+\"/BASE_OPERACIONAL_TELECOB_HUGO.parquet\")\n",
    "\n",
    "# base_operacional_hugo = base_operacional_hugo[['BASE','TELEFONE_HIGIENIZADO','TELEFONE','ATRASO','DEVEDOR','CONTRATO']]\n",
    "\n",
    "base_operacional_hugo['ATRASO'] = base_operacional_hugo['ATRASO'].astype('int16')\n",
    "# Criando coluna Faixa de atraso com suas respectivas faixas\n",
    "base_operacional_hugo.loc[base_operacional_hugo.ATRASO.between(0, 90),    'Faixa_de_Atraso'] = \"PDD (0 A 90)\"\n",
    "base_operacional_hugo.loc[base_operacional_hugo.ATRASO.between(91, 360),    'Faixa_de_Atraso'] = \"Atraso (91 a 360)\"\n",
    "base_operacional_hugo.loc[base_operacional_hugo.ATRASO.between(361, 1080),    'Faixa_de_Atraso'] = \"Atraso (361 a 1080)\"\n",
    "base_operacional_hugo.loc[base_operacional_hugo.ATRASO.between(1081, 1800),    'Faixa_de_Atraso'] = \"Atraso (1081 a 1800)\"\n",
    "base_operacional_hugo.loc[base_operacional_hugo.ATRASO.between(1801, 999999),    'Faixa_de_Atraso'] = \"Atraso (Acima 1801)\""
   ]
  },
  {
   "cell_type": "code",
   "execution_count": null,
   "metadata": {},
   "outputs": [],
   "source": [
    "base_operacional_hugo.query(\"CONTRATO == '002001019034'\").drop_duplicates(['CONTRATO','TELEFONE','TELEFONE_HIGIENIZADO'])"
   ]
  },
  {
   "cell_type": "code",
   "execution_count": null,
   "metadata": {},
   "outputs": [],
   "source": [
    "base_1 = base_operacional_hugo[['BASE','TELEFONE_HIGIENIZADO','DEVEDOR','ATRASO','Faixa_de_Atraso','CONTRATO']].rename(columns={'TELEFONE_HIGIENIZADO':'TELEFONE'})\n",
    "base_2 = base_operacional_hugo[['BASE','TELEFONE','DEVEDOR','ATRASO','Faixa_de_Atraso','CONTRATO']]\n",
    "bases_teles_tels = pd.concat([base_1,base_2])\n",
    "bases_teles_tels = bases_teles_tels.drop_duplicates(['BASE','TELEFONE'])\n",
    "bases_teles_tels = bases_teles_tels.query(\"BASE != 'Claro MÃ³vel'\")\n",
    "bases_teles_tels = bases_teles_tels.query('TELEFONE.notnull()')\n"
   ]
  },
  {
   "cell_type": "code",
   "execution_count": null,
   "metadata": {},
   "outputs": [],
   "source": [
    "### Carregando a base de telefones BLACKLIST\n",
    "blacklist = pd.read_parquet(r\"R:\\TI\\TELEFONIA/BLACKLIST_NPTIM.parquet\")\n",
    "blacklist = blacklist.drop_duplicates(['dddtelefone']).reset_index(drop=True)\n",
    "blacklist = blacklist.assign(BLACKLIST=1)\n",
    "blacklist['dddtelefone'] = blacklist['dddtelefone'].astype('str')"
   ]
  },
  {
   "cell_type": "code",
   "execution_count": null,
   "metadata": {},
   "outputs": [],
   "source": [
    "bases_teles_tels = pd.merge(bases_teles_tels, blacklist, right_on=['dddtelefone'], left_on=['TELEFONE'], how=\"left\")\n",
    "# bases_teles_tels['BLACKLIST'] = bases_teles_tels['BLACKLIST'].astype('int32')\n",
    "bases_teles_tels"
   ]
  },
  {
   "cell_type": "code",
   "execution_count": null,
   "metadata": {},
   "outputs": [],
   "source": [
    "bloqueados_net = bases_teles_tels.query(\"BASE == 'GEVENUE NET' and BLACKLIST.notnull()\")[['BASE','CONTRATO','TELEFONE','BLACKLIST']]"
   ]
  },
  {
   "cell_type": "code",
   "execution_count": null,
   "metadata": {},
   "outputs": [],
   "source": [
    "bloqueados_net.query(\"CONTRATO == '002001000570'\")"
   ]
  },
  {
   "cell_type": "code",
   "execution_count": null,
   "metadata": {},
   "outputs": [],
   "source": [
    "bloqueados_net.to_excel(r\"R:\\TI\\TELEFONIA\\Mailings Prontos\\2024\\Agosto\\02\\Jorgean\\BLIST_NET/TELS_NET_BLIST.xlsx\",index=False)"
   ]
  },
  {
   "cell_type": "code",
   "execution_count": null,
   "metadata": {},
   "outputs": [],
   "source": [
    "gp_teles = bases_teles_tels.groupby(['BASE','Faixa_de_Atraso']).agg({'TELEFONE':'count',\n",
    "                                                         'BLACKLIST':'sum'}).reset_index()\n",
    "\n",
    "gp_teles"
   ]
  },
  {
   "cell_type": "code",
   "execution_count": null,
   "metadata": {},
   "outputs": [],
   "source": [
    "gp_teles['%%BLACKLIST'] = gp_teles['BLACKLIST']/gp_teles['TELEFONE'] * 100\n",
    "gp_teles"
   ]
  },
  {
   "cell_type": "code",
   "execution_count": null,
   "metadata": {},
   "outputs": [],
   "source": []
  },
  {
   "cell_type": "code",
   "execution_count": null,
   "metadata": {},
   "outputs": [],
   "source": []
  }
 ],
 "metadata": {
  "kernelspec": {
   "display_name": "Python 3",
   "language": "python",
   "name": "python3"
  },
  "language_info": {
   "codemirror_mode": {
    "name": "ipython",
    "version": 3
   },
   "file_extension": ".py",
   "mimetype": "text/x-python",
   "name": "python",
   "nbconvert_exporter": "python",
   "pygments_lexer": "ipython3",
   "version": "3.10.8"
  }
 },
 "nbformat": 4,
 "nbformat_minor": 2
}
