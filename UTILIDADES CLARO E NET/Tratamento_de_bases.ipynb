{
 "cells": [
  {
   "cell_type": "code",
   "execution_count": null,
   "metadata": {},
   "outputs": [],
   "source": [
    "import pandas as pd \n",
    "import numpy as np\n",
    "import glob  \n",
    "import warnings\n",
    "\n",
    "warnings.filterwarnings('ignore')\n",
    "pd.set_option(\"display.max_columns\", None)\n",
    "#################################################### CARERGANDO A BASE DE TELEFONES HIGIENIZADOS\n",
    "\n",
    "caminho = r\"R:\\TI\\TELEFONIA\\BASES_HIGIENIZADAS_CLARO_E_NET\\TELEFONES CLARO E NET\"\n",
    "arquivos = glob.glob(caminho + \"/*.csv\")\n",
    "lista = []\n",
    "for arquivo in arquivos:\n",
    "    print(arquivo)\n",
    "    lista.append(arquivo)\n",
    "    \n",
    "    dfList = []\n",
    "    \n",
    "    for item in lista:   \n",
    "        chunks = pd.read_csv(item, encoding='iso-8859-1', chunksize=1000000, sep=\";\", dtype='str')\n",
    "        for df in chunks:\n",
    "            dfList.append(df)\n",
    "\n",
    "# Criando DataFrame com concat e a lista criada a cima\n",
    "telefones_higienizados = pd.concat(dfList, sort=False, ignore_index=True)\n",
    "\n",
    "\n",
    "telefones_higienizados = telefones_higienizados.drop_duplicates(['CPF','TELEFONE'])\n",
    "telefones_higienizados = telefones_higienizados.reset_index(drop=True)\n",
    "\n",
    "\n",
    "\n",
    "telefones_higienizados.to_csv(r\"R:\\TI\\TELEFONIA\\BASES_HIGIENIZADAS_CLARO_E_NET\\TELEFONES CLARO E NET/TELEFONES_HIGI_CLARO_NET_GEVENUE_FULL_2911.csv\",sep=';',index=False)\n"
   ]
  },
  {
   "cell_type": "code",
   "execution_count": null,
   "metadata": {},
   "outputs": [],
   "source": []
  },
  {
   "cell_type": "code",
   "execution_count": null,
   "metadata": {},
   "outputs": [],
   "source": [
    "\n",
    "import pandas as pd \n",
    "import numpy as np\n",
    "import glob  \n",
    "import warnings\n",
    "#################################################### CARERGANDO A BASE DE EMAILS HIGIENIZADOS\n",
    "\n",
    "caminho = r\"R:\\TI\\TELEFONIA\\BASES_HIGIENIZADAS_CLARO_E_NET\\EMAILS CLARO E NET\\BASE EMAIL TRATADA\"\n",
    "arquivos = glob.glob(caminho + \"/*.csv\")\n",
    "lista = []\n",
    "for arquivo in arquivos:\n",
    "    print(arquivo)\n",
    "    lista.append(arquivo)\n",
    "    \n",
    "    dfList = []\n",
    "    \n",
    "    for item in lista:   \n",
    "        chunks = pd.read_csv(item, encoding='iso-8859-1', chunksize=1000000, sep=\";\", dtype='str')\n",
    "        for df in chunks:\n",
    "            dfList.append(df)\n",
    "\n",
    "# Criando DataFrame com concat e a lista criada a cima\n",
    "emails_higienizados = pd.concat(dfList, sort=False, ignore_index=True)\n",
    "\n",
    "emails_higienizados = emails_higienizados.drop_duplicates(['CPF','EMAIL'])\n",
    "emails_higienizados = emails_higienizados.reset_index(drop=True)\n",
    "\n",
    "emails_higienizados"
   ]
  },
  {
   "cell_type": "code",
   "execution_count": null,
   "metadata": {},
   "outputs": [],
   "source": [
    "emails_higienizados.to_csv(r\"R:\\TI\\TELEFONIA\\BASES_HIGIENIZADAS_CLARO_E_NET\\EMAILS CLARO E NET/EMAILS_HIGI_CLARO_NET_GEVENUE_FULL_2911.csv\",sep=';',index=False)\n"
   ]
  },
  {
   "cell_type": "code",
   "execution_count": null,
   "metadata": {},
   "outputs": [],
   "source": []
  },
  {
   "cell_type": "code",
   "execution_count": null,
   "metadata": {},
   "outputs": [],
   "source": [
    "\n",
    "import pandas as pd \n",
    "import numpy as np\n",
    "import glob  \n",
    "import warnings\n",
    "#################################################### CARERGANDO A BASE DE VALIDADOS\n",
    "\n",
    "caminho = r\"R:\\TI\\TELEFONIA\\BASE DE VALIDADOS\\BASE VALIDADA FULL\"\n",
    "arquivos = glob.glob(caminho + \"/*.csv\")\n",
    "lista = []\n",
    "for arquivo in arquivos:\n",
    "    print(arquivo)\n",
    "    lista.append(arquivo)\n",
    "    \n",
    "    dfList = []\n",
    "    \n",
    "    for item in lista:   \n",
    "        chunks = pd.read_csv(item, encoding='iso-8859-1', chunksize=1000000, sep=\";\", dtype='str',usecols=['Numero', 'Usa whatsapp', 'data de envio'])\n",
    "        for df in chunks:\n",
    "            dfList.append(df)\n",
    "\n",
    "# Criando DataFrame com concat e a lista criada a cima\n",
    "telefones_validados = pd.concat(dfList, sort=False, ignore_index=False)\n",
    "telefones_validados"
   ]
  },
  {
   "cell_type": "code",
   "execution_count": null,
   "metadata": {},
   "outputs": [],
   "source": [
    "telefones_validados.info()"
   ]
  },
  {
   "cell_type": "code",
   "execution_count": null,
   "metadata": {},
   "outputs": [],
   "source": [
    "# telefones_validados = telefones_validados.drop_duplicates(['Numero','Usa whatsapp'])\n",
    "# telefones_validados = telefones_validados.reset_index(drop=True)\n",
    "\n",
    "telefones_validados"
   ]
  },
  {
   "cell_type": "code",
   "execution_count": null,
   "metadata": {},
   "outputs": [],
   "source": [
    "telefones_validados.to_csv(r\"R:\\TI\\TELEFONIA\\BASE DE VALIDADOS/VALIDACAO_AFINDER_CLARO_NET_GEVENUE_FULL_2911.csv\",sep=';',index=False)\n"
   ]
  }
 ],
 "metadata": {
  "kernelspec": {
   "display_name": "Python 3",
   "language": "python",
   "name": "python3"
  },
  "language_info": {
   "codemirror_mode": {
    "name": "ipython",
    "version": 3
   },
   "file_extension": ".py",
   "mimetype": "text/x-python",
   "name": "python",
   "nbconvert_exporter": "python",
   "pygments_lexer": "ipython3",
   "version": "3.10.8"
  }
 },
 "nbformat": 4,
 "nbformat_minor": 2
}
