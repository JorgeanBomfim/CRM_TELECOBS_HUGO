{
 "cells": [
  {
   "cell_type": "code",
   "execution_count": 1,
   "metadata": {},
   "outputs": [],
   "source": [
    "# trazendo a base que foi respondido de ura\n",
    "import pymysql\n",
    "import pandas as pd \n",
    "import numpy as np\n",
    "import glob  \n",
    "import warnings\n",
    "warnings.filterwarnings('ignore')\n",
    "\n",
    "# Estabelece a conexão com o banco de dados\n",
    "connection = pymysql.connect(\n",
    "    host='10.0.6.2',\n",
    "    user='planejamento',\n",
    "    password='@Planejamento!123',\n",
    "    database='atn'\n",
    ")\n",
    "\n",
    "# Define a consulta SQL\n",
    "query = \"\"\"\n",
    "SELECT\n",
    "DATE_FORMAT(a.instante, '%d-%m') AS DATA\n",
    ",a.Chave1 AS DEVEDOR\n",
    ",a.Chave2 AS NOME\n",
    ",a.Chave3 AS CPF\n",
    ",CONCAT(a.DDD, a.Fone) AS telefone\n",
    ",a.id_arquivo\n",
    ",d.ARC_DESC\n",
    "FROM totalinfo_2023_07 a \n",
    "\tLEFT JOIN tabulacaooper top ON a.callid = top.callid\n",
    "\tLEFT JOIN arquivo_mailing d ON a.id_arquivo = d.ID_ARQUIVOMAILING\n",
    "WHERE a.GrupoPrincipal IN(6189,6187,6191)\n",
    "AND a.Agente<>''\n",
    "AND top.codtabulacao <> 50\n",
    "AND a.instante>='2023-07-04 08:00:00'\n",
    "AND a.instante<='2023-07-04 23:00:00'\n",
    "\"\"\"\n",
    "\n",
    "respondidos_claro_net = pd.read_sql(query, connection)\n",
    "\n",
    "respondidos_claro_net['ARC_DESC'] = respondidos_claro_net['ARC_DESC'].str.upper()\n",
    "respondidos_claro_net.loc[respondidos_claro_net['ARC_DESC'].str.contains('NET'), 'CARTEIRA'] = 'NET'\n",
    "respondidos_claro_net.loc[respondidos_claro_net['ARC_DESC'].str.contains('FIXO'), 'CARTEIRA'] = 'FIXO'\n",
    "respondidos_claro_net.loc[respondidos_claro_net['ARC_DESC'].str.contains('MOVEL'), 'CARTEIRA'] = 'MOVEL'\n",
    "respondidos_claro_net.loc[respondidos_claro_net['ARC_DESC'].str.contains('TV'), 'CARTEIRA'] = 'TV'\n",
    "respondidos_claro_net.loc[respondidos_claro_net['ARC_DESC'].str.contains('GEVENUE'), 'CARTEIRA'] = 'GEVENUE'\n",
    "\n",
    "respondidos_gevenue = respondidos_claro_net.query(\"CARTEIRA == 'GEVENUE'\")\n",
    "\n",
    "\n",
    "respondidos_claro_net = respondidos_claro_net.loc[:,['CPF','NOME','telefone','CARTEIRA']]\n",
    "\n",
    "respondidos_movel = respondidos_claro_net.query(\"CARTEIRA == 'MOVEL'\")\n",
    "respondidos_tv = respondidos_claro_net.query(\"CARTEIRA == 'TV'\")\n",
    "respondidos_fixo = respondidos_claro_net.query(\"CARTEIRA == 'FIXO'\")\n",
    "respondidos_net = respondidos_claro_net.query(\"CARTEIRA == 'NET'\")\n",
    "\n",
    "\n",
    "#DANDO ALEATORIO NOS ARQUIVOS\n",
    "respondidos_movel = respondidos_movel.sample(frac = 1)\n",
    "respondidos_tv = respondidos_tv.sample(frac = 1)\n",
    "respondidos_fixo = respondidos_fixo.sample(frac = 1)\n",
    "\n",
    "\n",
    "respondidos_gevenue = respondidos_gevenue.loc[:,['DEVEDOR','NOME','telefone','CARTEIRA']]\n",
    "respondidos_gevenue = respondidos_gevenue.sample(frac = 1)\n"
   ]
  },
  {
   "cell_type": "code",
   "execution_count": 2,
   "metadata": {},
   "outputs": [],
   "source": [
    "### baixando os dfs\n",
    "respondidos_movel.to_csv(r\"R:\\TI\\TELEFONIA\\Mailings Prontos\\2023\\Julho\\5\\Jorgin da Clock/respondidos_cpc_movel_0507.csv\",index=False,sep=';')\n",
    "respondidos_tv.to_csv(r\"R:\\TI\\TELEFONIA\\Mailings Prontos\\2023\\Julho\\5\\Jorgin da Clock/respondidos_cpc_tv_0507.csv\",index=False,sep=';')\n",
    "respondidos_fixo.to_csv(r\"R:\\TI\\TELEFONIA\\Mailings Prontos\\2023\\Julho\\5\\Jorgin da Clock/respondido_cpc_fixo_0507.csv\",index=False,sep=';')\n",
    "respondidos_net.to_csv(r\"R:\\TI\\TELEFONIA\\Mailings Prontos\\2023\\Julho\\5\\Jorgin da Clock/respondidos_cpc_net_0507.csv\",index=False,sep=';')\n",
    "respondidos_gevenue.to_csv(r\"R:\\TI\\TELEFONIA\\Mailings Prontos\\2023\\Julho\\5\\Jorgin da Clock/respondidos_cpc_gevenue_0507.csv\",index=False,sep=';')"
   ]
  }
 ],
 "metadata": {
  "kernelspec": {
   "display_name": "Python 3",
   "language": "python",
   "name": "python3"
  },
  "language_info": {
   "codemirror_mode": {
    "name": "ipython",
    "version": 3
   },
   "file_extension": ".py",
   "mimetype": "text/x-python",
   "name": "python",
   "nbconvert_exporter": "python",
   "pygments_lexer": "ipython3",
   "version": "3.9.12"
  },
  "orig_nbformat": 4,
  "vscode": {
   "interpreter": {
    "hash": "4808b291ec85e67d897b5e1f07fdb01804cb7310de050e90237ad8cf08940fad"
   }
  }
 },
 "nbformat": 4,
 "nbformat_minor": 2
}
